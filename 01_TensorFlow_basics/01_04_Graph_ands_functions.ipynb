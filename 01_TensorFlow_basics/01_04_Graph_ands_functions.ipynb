{
 "cells": [
  {
   "cell_type": "code",
   "execution_count": null,
   "metadata": {},
   "outputs": [],
   "source": [
    "### 1.4 计算图和 tf.function 简介"
   ]
  },
  {
   "cell_type": "code",
   "execution_count": null,
   "metadata": {},
   "outputs": [],
   "source": [
    "### 总结\n",
    "\n",
    "#1.tf.function 是 TensorFlow 2.x 中引入的一个装饰器，用于将 Python 函数转换为 TensorFlow 图函数（Graph Function）。\n",
    "#这样做的好处是可以提高函数的执行效率，并允许 TensorFlow 使用自动微分（Automatic Differentiation）来计算梯度。\n",
    "\n",
    "#2.当你将一个函数用 tf.function 装饰时，TensorFlow 会在第一次调用该函数时将其转换为一个计算图，并在后续调用中重复使用这个计算图，\n",
    "#而不是每次都重新构建计算图。这可以显著减少 CPU 和 GPU 的计算开销，尤其是在执行大量迭代或需要重复调用同一个函数的场景中。\n",
    "\n",
    "#3.需要注意的是，虽然 tf.function 提供了很多便利，但它并不总是必需的。对于简单的函数或一次性任务，直接使用 TensorFlow 的原生 Python API \n",
    "#可能更加直观和简单。然而，对于需要高性能和可重复执行的任务，使用 tf.function 可以显著提高效率和可靠性。"
   ]
  }
 ],
 "metadata": {
  "language_info": {
   "name": "python"
  }
 },
 "nbformat": 4,
 "nbformat_minor": 2
}
