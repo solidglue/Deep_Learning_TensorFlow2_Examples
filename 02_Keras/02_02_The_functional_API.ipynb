{
 "cells": [
  {
   "cell_type": "code",
   "execution_count": null,
   "metadata": {},
   "outputs": [],
   "source": [
    "#TODO\n",
    "#INFO:关注多输入多输出训练方式，以及embedding层。注意keras如何设置共享embedding"
   ]
  }
 ],
 "metadata": {
  "language_info": {
   "name": "python"
  }
 },
 "nbformat": 4,
 "nbformat_minor": 2
}
