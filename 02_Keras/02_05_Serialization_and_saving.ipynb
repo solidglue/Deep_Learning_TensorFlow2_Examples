{
 "cells": [
  {
   "cell_type": "code",
   "execution_count": 2,
   "metadata": {},
   "outputs": [
    {
     "data": {
      "text/plain": [
       "'\\nKeras 模型由多个组件组成：\\n\\n架构或配置，指定模型包含的层及其连接方式。\\n优化器（通过编译模型来定义）。\\n优化器（通过编译模型来定义）。\\n一组损失和指标（通过编译模型或调用 add_loss() 或 add_metric() 定义）。\\n您可以通过 Keras API 将这些片段一次性保存到磁盘，或仅选择性地保存其中一些片段：\\n\\n将所有内容以 TensorFlow SavedModel 格式（或较早的 Keras H5 格式）保存到单个存档。这是标准做法。\\n仅保存架构/配置，通常保存为 JSON 文件。\\n仅保存权重值。通常在训练模型时使用。\\n我们来看看每个选项。什么时候使用哪个选项？它们是如何工作的？\\n'"
      ]
     },
     "execution_count": 2,
     "metadata": {},
     "output_type": "execute_result"
    }
   ],
   "source": [
    "from tensorflow import keras\n",
    "\n",
    "\n",
    "\"\"\"\n",
    "Keras 模型由多个组件组成：\n",
    "\n",
    "架构或配置，指定模型包含的层及其连接方式。\n",
    "优化器（通过编译模型来定义）。\n",
    "优化器（通过编译模型来定义）。\n",
    "一组损失和指标（通过编译模型或调用 add_loss() 或 add_metric() 定义）。\n",
    "您可以通过 Keras API 将这些片段一次性保存到磁盘，或仅选择性地保存其中一些片段：\n",
    "\n",
    "将所有内容以 TensorFlow SavedModel 格式（或较早的 Keras H5 格式）保存到单个存档。这是标准做法。\n",
    "仅保存架构/配置，通常保存为 JSON 文件。\n",
    "仅保存权重值。通常在训练模型时使用。\n",
    "我们来看看每个选项。什么时候使用哪个选项？它们是如何工作的？\n",
    "\"\"\"\n"
   ]
  },
  {
   "cell_type": "code",
   "execution_count": null,
   "metadata": {},
   "outputs": [],
   "source": [
    "### 2.5.1 如何保存和加载模型\n",
    "\n",
    "## 保存 Keras 模型\n",
    "model = ...  # Get model (Sequential, Functional Model, or Model subclass)\n",
    "model.save('path/to/location')\n"
   ]
  },
  {
   "cell_type": "code",
   "execution_count": null,
   "metadata": {},
   "outputs": [],
   "source": [
    "##重新加载模型：\n",
    "model = keras.models.load_model('path/to/location')"
   ]
  },
  {
   "cell_type": "code",
   "execution_count": null,
   "metadata": {},
   "outputs": [],
   "source": [
    "### 更多功能\n",
    "#全模型保存和加载、保存架构、只需使用模型进行推断\n",
    "#   （在这种情况下，您无需重新开始训练，因此不需要编译信息或优化器状态）等更多功能，\n",
    "#参考：https://tensorflow.google.cn/guide/keras/save_and_serialize?hl=zh-cn#%E7%AE%80%E4%BB%8B\n",
    "#   或参考1.5节。"
   ]
  }
 ],
 "metadata": {
  "kernelspec": {
   "display_name": "Python 3",
   "language": "python",
   "name": "python3"
  },
  "language_info": {
   "codemirror_mode": {
    "name": "ipython",
    "version": 3
   },
   "file_extension": ".py",
   "mimetype": "text/x-python",
   "name": "python",
   "nbconvert_exporter": "python",
   "pygments_lexer": "ipython3",
   "version": "3.11.8"
  }
 },
 "nbformat": 4,
 "nbformat_minor": 2
}
