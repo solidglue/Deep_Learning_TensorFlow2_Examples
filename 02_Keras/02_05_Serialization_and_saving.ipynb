{
 "cells": [
  {
   "cell_type": "code",
   "execution_count": null,
   "metadata": {},
   "outputs": [],
   "source": [
    "#TODO\n",
    "#INFO:可以简单列举或参考1.5，详情不深究"
   ]
  }
 ],
 "metadata": {
  "language_info": {
   "name": "python"
  }
 },
 "nbformat": 4,
 "nbformat_minor": 2
}
