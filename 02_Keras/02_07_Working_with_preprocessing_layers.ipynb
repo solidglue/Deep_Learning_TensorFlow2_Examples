{
 "cells": [
  {
   "cell_type": "code",
   "execution_count": null,
   "metadata": {},
   "outputs": [],
   "source": [
    "#TODO\n",
    "#INFO:重点关注连续特殊离散化、类别特征hash。处理完作为输入传递给embedding层"
   ]
  }
 ],
 "metadata": {
  "language_info": {
   "name": "python"
  }
 },
 "nbformat": 4,
 "nbformat_minor": 2
}
