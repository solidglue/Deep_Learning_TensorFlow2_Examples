{
 "cells": [
  {
   "cell_type": "code",
   "execution_count": null,
   "metadata": {},
   "outputs": [],
   "source": [
    "\n",
    "\n",
    "#TensorFlow Core API 提供了一组全面的、可组合的和 可扩展的低级 API，实现高性能（分布式和加速） 计算，\n",
    "#主要用于构建机器学习 （ML） 模型以及 在 TensorFlow 平台中创作 ML 工作流工具和框架。这些 API 为创建高度可配置的模型奠定了基础 从头开始的细粒度控制和新框架。\n",
    "\n",
    "#核心 API 可用作高级机器学习 API 的替代方法 就像Keras一样。这些高级 API 最适合常规机器学习 需要。\n",
    "#它们提供了各种模块，可以抽象出 ML 的复杂性 同时还提供通过子类进行自定义的功能。\n",
    "\n",
    "\n",
    "\n"
   ]
  },
  {
   "cell_type": "code",
   "execution_count": null,
   "metadata": {},
   "outputs": [],
   "source": [
    "### 1 谁应该使用核心 API\n",
    "\n",
    "#TensorFlow Core 低级 API 由以下 ML 开发人员设计 在考虑：\n",
    "#   研究人员构建具有高度可配置性的复杂模型\n",
    "#   有兴趣将 TensorFlow 用作高性能科学的开发人员 计算平台\n",
    "#   框架作者在 TensorFlow 平台之上构建工具\n",
    "#   对以下内容感兴趣的高级 API 用户：\n",
    "#       向机器学习工作流添加其他功能 例如自定义层、损失、模型和优化器\n",
    "#       详细了解其模型的内部工作原理"
   ]
  },
  {
   "cell_type": "code",
   "execution_count": null,
   "metadata": {},
   "outputs": [],
   "source": [
    "### 2 核心 API 应用\n",
    "\n",
    "## 1)构建模型和工作流\n",
    "#核心 API 最常用于构建高度可定制和优化的 机器学习模型和工作流。以下是一些方式 TensorFlow Core API 可以改进您的机器学习模型和工作流程 发展：\n",
    "#   构建不完全适合 高级 API 支持的结构\n",
    "#   在 Keras 中构建自定义层、损失、模型和优化器\n",
    "#   实施新的优化技术以加快收敛 训练\n",
    "#   创建用于评估的自定义指标\n",
    "#   设计高度可配置的训练循环，支持以下功能 批处理、交叉验证和分发策略\n"
   ]
  },
  {
   "cell_type": "code",
   "execution_count": null,
   "metadata": {},
   "outputs": [],
   "source": [
    "## 2)构建框架和工具\n",
    "#TensorFlow Core API 还可以作为新 高级框架。以下是一些工具和框架的示例： 使用低级 API 创建：\n",
    "#   Keras：人类的深度学习\n",
    "#   TensorFlow 模型优化工具包： 一套工具，用于优化 ML 模型以进行部署和执行\n",
    "#   TensorFlow Graphics：一个用于 使有用的图形功能广泛可访问"
   ]
  },
  {
   "cell_type": "code",
   "execution_count": null,
   "metadata": {},
   "outputs": [],
   "source": [
    "## 3)专为科学计算而构建\n",
    "#TensorFlow Core API 也可以在机器领域之外应用 学习。以下是 TensorFlow 的一些通用用例，用于科学 计算机科学：\n",
    "#   固体力学和流体动力学问题的物理模拟\n",
    "#   图形渲染应用程序，如光线追踪\n",
    "#   求解约束优化问题"
   ]
  },
  {
   "cell_type": "code",
   "execution_count": null,
   "metadata": {},
   "outputs": [],
   "source": [
    "## 4)核心 API 组件\n",
    "#以下是构成 TensorFlow Core 低 级别 API。请注意，这不是一个包罗万象的列表：\n",
    "#   Data structures : tf.Tensor, tf.Variable, tf.TensorArray\n",
    "#   Primitive APIs: tf.shape, slicing, tf.concat, tf.bitwise\n",
    "#   Numerical: tf.math, tf.linalg, tf.random\n",
    "#   Functional components: tf.function, tf.GradientTape\n",
    "#   Distribution: DTensor\n",
    "#   Export: tf.saved_model"
   ]
  },
  {
   "cell_type": "code",
   "execution_count": null,
   "metadata": {},
   "outputs": [],
   "source": [
    "### 总结\n",
    "#实际生产中为了兼顾快捷性和灵活性，可以Core API + Keras结合开发，例如构建模型、损失等用CORE API，多输入输出、embedding共享、多目标训练时用keras。"
   ]
  }
 ],
 "metadata": {
  "language_info": {
   "name": "python"
  }
 },
 "nbformat": 4,
 "nbformat_minor": 2
}
