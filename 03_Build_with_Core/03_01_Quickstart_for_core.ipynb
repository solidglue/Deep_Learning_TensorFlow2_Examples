{
 "cells": [
  {
   "cell_type": "code",
   "execution_count": 1,
   "metadata": {},
   "outputs": [
    {
     "name": "stdout",
     "output_type": "stream",
     "text": [
      "WARNING:tensorflow:From c:\\Users\\yuanshuai\\AppData\\Local\\anaconda3\\envs\\tensorflow2\\Lib\\site-packages\\keras\\src\\losses.py:2976: The name tf.losses.sparse_softmax_cross_entropy is deprecated. Please use tf.compat.v1.losses.sparse_softmax_cross_entropy instead.\n",
      "\n",
      "TensorFlow version: 2.15.0\n"
     ]
    }
   ],
   "source": [
    "import tensorflow as tf\n",
    "import pandas as pd\n",
    "import matplotlib\n",
    "from matplotlib import pyplot as plt\n",
    "print(\"TensorFlow version:\", tf.__version__)\n",
    "# Set a random seed for reproducible results \n",
    "tf.random.set_seed(22)\n",
    "\n",
    "#本快速入门教程演示了如何使用 TensorFlow Core 低级 API 来构建和训练预测燃油效率的多元线性回归模型。\n",
    "#它使用 Auto MPG 数据集，其中包含 20 世纪 70 年代末和 20 世纪 80 年代初汽车的燃油效率数据。\n",
    "\n",
    "#您将遵循机器学习过程的典型阶段：\n",
    "#   加载数据集。\n",
    "#   构建输入流水线。\n",
    "#   构建多元线性回归模型。\n",
    "#   评估模型的性能。\n"
   ]
  },
  {
   "cell_type": "code",
   "execution_count": 2,
   "metadata": {},
   "outputs": [
    {
     "data": {
      "text/html": [
       "<div>\n",
       "<style scoped>\n",
       "    .dataframe tbody tr th:only-of-type {\n",
       "        vertical-align: middle;\n",
       "    }\n",
       "\n",
       "    .dataframe tbody tr th {\n",
       "        vertical-align: top;\n",
       "    }\n",
       "\n",
       "    .dataframe thead th {\n",
       "        text-align: right;\n",
       "    }\n",
       "</style>\n",
       "<table border=\"1\" class=\"dataframe\">\n",
       "  <thead>\n",
       "    <tr style=\"text-align: right;\">\n",
       "      <th></th>\n",
       "      <th>MPG</th>\n",
       "      <th>Cylinders</th>\n",
       "      <th>Displacement</th>\n",
       "      <th>Horsepower</th>\n",
       "      <th>Weight</th>\n",
       "      <th>Acceleration</th>\n",
       "      <th>Model Year</th>\n",
       "      <th>Origin</th>\n",
       "    </tr>\n",
       "  </thead>\n",
       "  <tbody>\n",
       "    <tr>\n",
       "      <th>393</th>\n",
       "      <td>27.0</td>\n",
       "      <td>4</td>\n",
       "      <td>140.0</td>\n",
       "      <td>86.0</td>\n",
       "      <td>2790.0</td>\n",
       "      <td>15.6</td>\n",
       "      <td>82</td>\n",
       "      <td>1</td>\n",
       "    </tr>\n",
       "    <tr>\n",
       "      <th>394</th>\n",
       "      <td>44.0</td>\n",
       "      <td>4</td>\n",
       "      <td>97.0</td>\n",
       "      <td>52.0</td>\n",
       "      <td>2130.0</td>\n",
       "      <td>24.6</td>\n",
       "      <td>82</td>\n",
       "      <td>2</td>\n",
       "    </tr>\n",
       "    <tr>\n",
       "      <th>395</th>\n",
       "      <td>32.0</td>\n",
       "      <td>4</td>\n",
       "      <td>135.0</td>\n",
       "      <td>84.0</td>\n",
       "      <td>2295.0</td>\n",
       "      <td>11.6</td>\n",
       "      <td>82</td>\n",
       "      <td>1</td>\n",
       "    </tr>\n",
       "    <tr>\n",
       "      <th>396</th>\n",
       "      <td>28.0</td>\n",
       "      <td>4</td>\n",
       "      <td>120.0</td>\n",
       "      <td>79.0</td>\n",
       "      <td>2625.0</td>\n",
       "      <td>18.6</td>\n",
       "      <td>82</td>\n",
       "      <td>1</td>\n",
       "    </tr>\n",
       "    <tr>\n",
       "      <th>397</th>\n",
       "      <td>31.0</td>\n",
       "      <td>4</td>\n",
       "      <td>119.0</td>\n",
       "      <td>82.0</td>\n",
       "      <td>2720.0</td>\n",
       "      <td>19.4</td>\n",
       "      <td>82</td>\n",
       "      <td>1</td>\n",
       "    </tr>\n",
       "  </tbody>\n",
       "</table>\n",
       "</div>"
      ],
      "text/plain": [
       "      MPG  Cylinders  Displacement  Horsepower  Weight  Acceleration  \\\n",
       "393  27.0          4         140.0        86.0  2790.0          15.6   \n",
       "394  44.0          4          97.0        52.0  2130.0          24.6   \n",
       "395  32.0          4         135.0        84.0  2295.0          11.6   \n",
       "396  28.0          4         120.0        79.0  2625.0          18.6   \n",
       "397  31.0          4         119.0        82.0  2720.0          19.4   \n",
       "\n",
       "     Model Year  Origin  \n",
       "393          82       1  \n",
       "394          82       2  \n",
       "395          82       1  \n",
       "396          82       1  \n",
       "397          82       1  "
      ]
     },
     "execution_count": 2,
     "metadata": {},
     "output_type": "execute_result"
    }
   ],
   "source": [
    "### 3.1.1 加载和预处理数据集\n",
    "#该数据集使用气缸、排量、马力和重量等各种定量和分类特征来预测 20 世纪 70 年代末和 20 世纪 80 年代初汽车的燃油效率。\n",
    "url = 'http://archive.ics.uci.edu/ml/machine-learning-databases/auto-mpg/auto-mpg.data'\n",
    "column_names = ['MPG', 'Cylinders', 'Displacement', 'Horsepower', 'Weight',\n",
    "                'Acceleration', 'Model Year', 'Origin']\n",
    "\n",
    "dataset = pd.read_csv(url, names=column_names, na_values='?', comment='\\t',\n",
    "                          sep=' ', skipinitialspace=True)\n",
    "\n",
    "dataset = dataset.dropna() # 去除任何缺失值\n",
    "dataset_tf = tf.convert_to_tensor(dataset, dtype=tf.float32) #将数据集转换为 tf.float32 张量类型。\n",
    "dataset.tail()"
   ]
  },
  {
   "cell_type": "code",
   "execution_count": 3,
   "metadata": {},
   "outputs": [],
   "source": [
    "#接下来，将数据集拆分为训练集和测试集。确保使用 tf.random.shuffle 重排数据集，以避免有偏差的拆分。\n",
    "dataset_shuffled = tf.random.shuffle(dataset_tf, seed=22)\n",
    "train_data, test_data = dataset_shuffled[100:], dataset_shuffled[:100]\n",
    "x_train, y_train = train_data[:, 1:], train_data[:, 0]\n",
    "x_test, y_test = test_data[:, 1:], test_data[:, 0]\n",
    "\n"
   ]
  },
  {
   "cell_type": "code",
   "execution_count": 4,
   "metadata": {},
   "outputs": [
    {
     "data": {
      "text/plain": [
       "array([[  4., 140.,  72., ...,   1.,   0.,   0.],\n",
       "       [  4., 120.,  74., ...,   0.,   0.,   1.],\n",
       "       [  4., 122.,  88., ...,   0.,   1.,   0.],\n",
       "       ...,\n",
       "       [  8., 318., 150., ...,   1.,   0.,   0.],\n",
       "       [  4., 156., 105., ...,   1.,   0.,   0.],\n",
       "       [  6., 232., 100., ...,   1.,   0.,   0.]], dtype=float32)"
      ]
     },
     "execution_count": 4,
     "metadata": {},
     "output_type": "execute_result"
    }
   ],
   "source": [
    "#dataset_shuffled = tf.random.shuffle(dataset_tf, seed=22)\n",
    "def onehot_origin(x):\n",
    "  origin = tf.cast(x[:, -1], tf.int32)\n",
    "  # Use `origin - 1` to account for 1-indexed feature\n",
    "  origin_oh = tf.one_hot(origin - 1, 3)\n",
    "  x_ohe = tf.concat([x[:, :-1], origin_oh], axis = 1)\n",
    "  return x_ohe\n",
    "\n",
    "x_train_ohe, x_test_ohe = onehot_origin(x_train), onehot_origin(x_test)\n",
    "x_train_ohe.numpy()"
   ]
  },
  {
   "cell_type": "code",
   "execution_count": 5,
   "metadata": {},
   "outputs": [],
   "source": [
    "#此示例显示了一个多元回归问题，其中预测器或特征具有截然不同的尺度。因此，标准化数据以使每个特征具有零均值和单位方差会有所帮助。\n",
    "#使用 tf.reduce_mean 和 tf.math.reduce_std 函数进行标准化。然后，可以对回归模型的预测进行非标准化以获得其用原始单位表示的值。\n",
    "class Normalize(tf.Module):\n",
    "  def __init__(self, x):\n",
    "    # Initialize the mean and standard deviation for normalization\n",
    "    self.mean = tf.math.reduce_mean(x, axis=0)\n",
    "    self.std = tf.math.reduce_std(x, axis=0)\n",
    "\n",
    "  def norm(self, x):\n",
    "    # Normalize the input\n",
    "    return (x - self.mean)/self.std\n",
    "\n",
    "  def unnorm(self, x):\n",
    "    # Unnormalize the input\n",
    "    return (x * self.std) + self.mean"
   ]
  },
  {
   "cell_type": "code",
   "execution_count": 6,
   "metadata": {},
   "outputs": [],
   "source": [
    "norm_x = Normalize(x_train_ohe)\n",
    "norm_y = Normalize(y_train)\n",
    "x_train_norm, y_train_norm = norm_x.norm(x_train_ohe), norm_y.norm(y_train)\n",
    "x_test_norm, y_test_norm = norm_x.norm(x_test_ohe), norm_y.norm(y_test)"
   ]
  },
  {
   "cell_type": "code",
   "execution_count": 21,
   "metadata": {},
   "outputs": [],
   "source": [
    "### 3.1.2 构建机器学习模型\n",
    "#通过使用 @tf.function 装饰器，跟踪相应的 Python 代码以生成可调用的 TensorFlow 计算图。\n",
    "#这种方式有利于在训练后保存和加载模型。它还可以为具有多层和复杂运算的模型带来性能提升。\n",
    "\n",
    "#即定义y = f(x)\n",
    "class LinearRegression(tf.Module):\n",
    "    def __init__(self):\n",
    "        self.built = False\n",
    "\n",
    "    @tf.function\n",
    "    def __call__(self, x):\n",
    "        # Initialize the model parameters on the first call\n",
    "        if not self.built:\n",
    "            rand_w = tf.random.uniform(shape=[x.shape[-1],1])\n",
    "            rand_b = tf.random.uniform(shape=[])\n",
    "            self.w = tf.Variable(rand_w)\n",
    "            self.b = tf.Variable(rand_b)\n",
    "            self.built = True\n",
    "\n",
    "        y = tf.add(tf.matmul(x, self.w), self.b)\n",
    "        return tf.squeeze(y, axis=1)    \n"
   ]
  },
  {
   "cell_type": "code",
   "execution_count": 22,
   "metadata": {},
   "outputs": [
    {
     "data": {
      "text/plain": [
       "array([6.8007336], dtype=float32)"
      ]
     },
     "execution_count": 22,
     "metadata": {},
     "output_type": "execute_result"
    }
   ],
   "source": [
    "#对于每个样本，该模型通过计算其特征的加权和加上一个偏差项来返回对输入汽车 MPG 的预测值。\n",
    "#然后，可以对该预测值进行非标准化以获得其用原始单位表示的值。\n",
    "lin_reg = LinearRegression()\n",
    "prediction = lin_reg(x_train_norm[:1])\n",
    "prediction_unnorm = norm_y.unnorm(prediction)\n",
    "prediction_unnorm.numpy()"
   ]
  },
  {
   "cell_type": "code",
   "execution_count": 27,
   "metadata": {},
   "outputs": [],
   "source": [
    "### 3.1.3 定义损失函数\n",
    "#mse\n",
    "def mse_loss(y_pred, y):\n",
    "  return tf.reduce_mean(tf.square(y_pred - y))    "
   ]
  },
  {
   "cell_type": "code",
   "execution_count": 24,
   "metadata": {},
   "outputs": [],
   "source": [
    "### 3.1.4 训练并评估模型\n",
    "#使用 mini-batch 进行训练既可以提高内存效率，又能加快收敛速度​​。\n",
    "batch_size = 64\n",
    "train_dataset = tf.data.Dataset.from_tensor_slices((x_train_norm, y_train_norm))\n",
    "train_dataset = train_dataset.shuffle(buffer_size=x_train.shape[0]).batch(batch_size)\n",
    "test_dataset = tf.data.Dataset.from_tensor_slices((x_test_norm, y_test_norm))\n",
    "test_dataset = test_dataset.shuffle(buffer_size=x_test.shape[0]).batch(batch_size)\n"
   ]
  },
  {
   "cell_type": "code",
   "execution_count": 28,
   "metadata": {},
   "outputs": [
    {
     "name": "stdout",
     "output_type": "stream",
     "text": [
      "WARNING:tensorflow:5 out of the last 11 calls to <function LinearRegression.__call__ at 0x000002097EF04180> triggered tf.function retracing. Tracing is expensive and the excessive number of tracings could be due to (1) creating @tf.function repeatedly in a loop, (2) passing tensors with different shapes, (3) passing Python objects instead of tensors. For (1), please define your @tf.function outside of the loop. For (2), @tf.function has reduce_retracing=True option that can avoid unnecessary retracing. For (3), please refer to https://www.tensorflow.org/guide/function#controlling_retracing and https://www.tensorflow.org/api_docs/python/tf/function for  more details.\n",
      "Mean squared error for step 0: 2.858\n",
      "Mean squared error for step 10: 0.468\n",
      "Mean squared error for step 20: 0.284\n",
      "Mean squared error for step 30: 0.225\n",
      "Mean squared error for step 40: 0.203\n",
      "Mean squared error for step 50: 0.190\n",
      "Mean squared error for step 60: 0.186\n",
      "Mean squared error for step 70: 0.182\n",
      "Mean squared error for step 80: 0.175\n",
      "Mean squared error for step 90: 0.183\n",
      "\n",
      "Final train loss: 0.175\n",
      "Final test loss: 0.166\n"
     ]
    }
   ],
   "source": [
    "#接下来，编写一个训练循环，通过使用 MSE 损失函数及其相对于输入参数的梯度来迭代更新模型的参数。\n",
    "\n",
    "## 主要是用sgd等优化loss\n",
    "\n",
    "# Set training parameters\n",
    "epochs = 100\n",
    "learning_rate = 0.01\n",
    "train_losses, test_losses = [], []\n",
    "\n",
    "## Format training loop\n",
    "for epoch in range(epochs):\n",
    "    batch_losses_train, batch_losses_test = [], []\n",
    "\n",
    "    # Iterate through the training data\n",
    "    for x_batch, y_batch in train_dataset:\n",
    "        with tf.GradientTape() as tape:\n",
    "            y_pred_batch = lin_reg(x_batch)\n",
    "            batch_loss = mse_loss(y_pred_batch, y_batch)\n",
    "\n",
    "        # Update parameters with respect to the gradient calculations\n",
    "        grads = tape.gradient(batch_loss, lin_reg.variables)\n",
    "        for g,v in zip(grads, lin_reg.variables):\n",
    "            v.assign_sub(learning_rate * g)\n",
    "\n",
    "        # Keep track of batch-level training performance\n",
    "        batch_losses_train.append(batch_loss)\n",
    "\n",
    "    # Iterate through the testing data\n",
    "    for x_batch, y_batch in test_dataset:\n",
    "        y_pred_batch = lin_reg(x_batch)\n",
    "        batch_loss = mse_loss(y_pred_batch, y_batch)\n",
    "        batch_losses_test.append(batch_loss)\n",
    "\n",
    "    # Keep track of epoch-level model performance\n",
    "    train_loss = tf.reduce_mean(batch_losses_train)\n",
    "    test_loss = tf.reduce_mean(batch_losses_test)\n",
    "    train_losses.append(train_loss)\n",
    "    test_losses.append(test_loss)\n",
    "    if epoch % 10 == 0:\n",
    "        print(f'Mean squared error for step {epoch}: {train_loss.numpy():0.3f}')\n",
    "\n",
    "# Output final losses\n",
    "print(f\"\\nFinal train loss: {train_loss:0.3f}\")\n",
    "print(f\"Final test loss: {test_loss:0.3f}\")    \n"
   ]
  },
  {
   "cell_type": "code",
   "execution_count": 35,
   "metadata": {},
   "outputs": [
    {
     "data": {
      "text/plain": [
       "(<tf.Variable 'Variable:0' shape=() dtype=float32, numpy=0.0005345661>,\n",
       " <tf.Variable 'Variable:0' shape=(9, 1) dtype=float32, numpy=\n",
       " array([[-0.18985331],\n",
       "        [ 0.16756196],\n",
       "        [ 0.08798207],\n",
       "        [-0.6493998 ],\n",
       "        [ 0.07257372],\n",
       "        [ 0.36394572],\n",
       "        [ 0.47225305],\n",
       "        [ 0.48366234],\n",
       "        [ 0.5019212 ]], dtype=float32)>)"
      ]
     },
     "execution_count": 35,
     "metadata": {},
     "output_type": "execute_result"
    }
   ],
   "source": [
    "lin_reg.variables"
   ]
  },
  {
   "cell_type": "code",
   "execution_count": 29,
   "metadata": {},
   "outputs": [
    {
     "data": {
      "image/png": "[encoded data removed]",
      "text/plain": [
       "<Figure size 900x600 with 1 Axes>"
      ]
     },
     "metadata": {},
     "output_type": "display_data"
    }
   ],
   "source": [
    "#绘制 MSE 损失随时间变化的图。计算指定验证集或测试集上的性能指标可确保模型不会对训练数据集过拟合，并且可以很好地泛化到未知数据。\n",
    "matplotlib.rcParams['figure.figsize'] = [9, 6]\n",
    "\n",
    "plt.plot(range(epochs), train_losses, label = \"Training loss\")\n",
    "plt.plot(range(epochs), test_losses, label = \"Testing loss\")\n",
    "plt.xlabel(\"Epoch\")\n",
    "plt.ylabel(\"Mean squared error loss\")\n",
    "plt.legend()                                #看起来该模型在拟合训练数据方面做得很好，同时也良好地泛化了未知测试数据。\n",
    "plt.title(\"MSE loss vs training iterations\");"
   ]
  },
  {
   "cell_type": "code",
   "execution_count": 30,
   "metadata": {},
   "outputs": [],
   "source": [
    "### 3.1.5 保存和加载模型\n",
    "#首先，构建一个接受原始数据并执行以下运算的导出模块：\n",
    "#   特征提取\n",
    "#   归一化\n",
    "#   预测\n",
    "#   非归一化\n",
    "\n",
    "\n",
    "class ExportModule(tf.Module):\n",
    "  def __init__(self, model, extract_features, norm_x, norm_y):\n",
    "    # Initialize pre and postprocessing functions\n",
    "    self.model = model\n",
    "    self.extract_features = extract_features\n",
    "    self.norm_x = norm_x   #此处传入的是函数\n",
    "    self.norm_y = norm_y\n",
    "\n",
    "  @tf.function(input_signature=[tf.TensorSpec(shape=[None, None], dtype=tf.float32)]) \n",
    "  def __call__(self, x):\n",
    "    # Run the ExportModule for new data points\n",
    "    x = self.extract_features(x)\n",
    "    x = self.norm_x.norm(x)\n",
    "    y = self.model(x)\n",
    "    y = self.norm_y.unnorm(y)\n",
    "    return y\n"
   ]
  },
  {
   "cell_type": "code",
   "execution_count": 31,
   "metadata": {},
   "outputs": [],
   "source": [
    "lin_reg_export = ExportModule(model=lin_reg,\n",
    "                              extract_features=onehot_origin,\n",
    "                              norm_x=norm_x,\n",
    "                              norm_y=norm_y)"
   ]
  },
  {
   "cell_type": "code",
   "execution_count": 33,
   "metadata": {},
   "outputs": [
    {
     "name": "stdout",
     "output_type": "stream",
     "text": [
      "INFO:tensorflow:Assets written to: __SavedModel/lin_reg_export\\assets\n"
     ]
    },
    {
     "name": "stderr",
     "output_type": "stream",
     "text": [
      "INFO:tensorflow:Assets written to: __SavedModel/lin_reg_export\\assets\n"
     ]
    }
   ],
   "source": [
    "#如果要将模型保存为当前状态，请使用 tf.saved_model.save 函数。要加载保存的模型并进行预测，请使用 tf.saved_model.load 函数。\n",
    "import tempfile\n",
    "import os\n",
    "\n",
    "models = tempfile.mkdtemp()\n",
    "save_path = '__SavedModel/lin_reg_export' #os.path.join(models, '__SavedModel/lin_reg_export')\n",
    "tf.saved_model.save(lin_reg_export, save_path)"
   ]
  },
  {
   "cell_type": "code",
   "execution_count": 34,
   "metadata": {},
   "outputs": [
    {
     "data": {
      "text/plain": [
       "array([28.058624, 26.163857, 33.58442 , 27.780079, 31.77824 , 24.081268,\n",
       "       24.451231, 13.459925, 28.574219, 27.388735], dtype=float32)"
      ]
     },
     "execution_count": 34,
     "metadata": {},
     "output_type": "execute_result"
    }
   ],
   "source": [
    "lin_reg_loaded = tf.saved_model.load(save_path)\n",
    "test_preds = lin_reg_loaded(x_test)\n",
    "test_preds[:10].numpy()"
   ]
  }
 ],
 "metadata": {
  "kernelspec": {
   "display_name": "Python 3",
   "language": "python",
   "name": "python3"
  },
  "language_info": {
   "codemirror_mode": {
    "name": "ipython",
    "version": 3
   },
   "file_extension": ".py",
   "mimetype": "text/x-python",
   "name": "python",
   "nbconvert_exporter": "python",
   "pygments_lexer": "ipython3",
   "version": "3.11.8"
  }
 },
 "nbformat": 4,
 "nbformat_minor": 2
}
