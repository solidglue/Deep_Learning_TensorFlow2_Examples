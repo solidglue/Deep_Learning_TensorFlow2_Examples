{
 "cells": [
  {
   "cell_type": "code",
   "execution_count": 1,
   "metadata": {},
   "outputs": [
    {
     "name": "stdout",
     "output_type": "stream",
     "text": [
      "WARNING:tensorflow:From c:\\Users\\yuanshuai\\AppData\\Local\\anaconda3\\envs\\tensorflow2\\Lib\\site-packages\\keras\\src\\losses.py:2976: The name tf.losses.sparse_softmax_cross_entropy is deprecated. Please use tf.compat.v1.losses.sparse_softmax_cross_entropy instead.\n",
      "\n"
     ]
    }
   ],
   "source": [
    "import tensorflow as tf\n",
    "import pathlib\n",
    "import os\n",
    "import matplotlib.pyplot as plt\n",
    "import pandas as pd\n",
    "import numpy as np\n",
    "\n",
    "np.set_printoptions(precision=4)\n",
    "\n",
    "\n",
    "#tf.data：构建 TensorFlow 输入流水线\n",
    "\n",
    "#tf.data API 引入了一个 tf.data.Dataset 抽象，它表示一个元素序列，其中每个元素都由一个或多个组件组成。\n",
    "#例如，在一个图像流水线中，一个元素可能是一个训练样本，有一对表示图像及其标签的张量组件。\n",
    "\n",
    "#您可以通过两种不同的方式创建数据集：\n",
    "#   数据源从存储在内存中或存储在一个或多个文件中的数据构造 Dataset。\n",
    "#   数据转换从一个或多个 tf.data.Dataset 对象构造数据集。\n"
   ]
  },
  {
   "cell_type": "code",
   "execution_count": 2,
   "metadata": {},
   "outputs": [
    {
     "data": {
      "text/plain": [
       "<_TensorSliceDataset element_spec=TensorSpec(shape=(), dtype=tf.int32, name=None)>"
      ]
     },
     "execution_count": 2,
     "metadata": {},
     "output_type": "execute_result"
    }
   ],
   "source": [
    "### 6.1.1 基本机制\n",
    "#要创建输入流水线，您必须从数据源开始。例如，要从内存中的数据构造一个 Dataset，您可以使用 tf.data.Dataset.from_tensors() \n",
    "#或 tf.data.Dataset.from_tensor_slices()。或者，如果您的输入数据以推荐的 TFRecord 格式存储在文件中，则您可以使用 tf.data.TFRecordDataset()。\n",
    "\n",
    "#有了一个 Dataset 对象之后，您可以通过链接 tf.data.Dataset 对象上的方法调用将其转换成一个新的 Dataset。\n",
    "#例如，您可以应用逐元素转换（例如 Dataset.map）和多元素转换（例如 Dataset.batch）。有关完整的转换列表，请参阅 tf.data.Dataset 文档。\n",
    "\n",
    "#Dataset 对象是一个 Python 可迭代对象。这使得利用 for 循环使用它的元素成为可能：\n",
    "dataset = tf.data.Dataset.from_tensor_slices([8, 3, 0, 8, 2, 1])\n",
    "dataset\n"
   ]
  },
  {
   "cell_type": "code",
   "execution_count": 3,
   "metadata": {},
   "outputs": [
    {
     "name": "stdout",
     "output_type": "stream",
     "text": [
      "8\n",
      "3\n",
      "0\n",
      "8\n",
      "2\n",
      "1\n"
     ]
    }
   ],
   "source": [
    "for elem in dataset:\n",
    "  print(elem.numpy())"
   ]
  },
  {
   "cell_type": "code",
   "execution_count": 5,
   "metadata": {},
   "outputs": [
    {
     "name": "stdout",
     "output_type": "stream",
     "text": [
      "8\n"
     ]
    }
   ],
   "source": [
    "#或者使用 iter 显式创建一个 Python 迭代器，并利用 next 来使用它的元素：\n",
    "it = iter(dataset)\n",
    "print(next(it).numpy())"
   ]
  },
  {
   "cell_type": "code",
   "execution_count": 6,
   "metadata": {},
   "outputs": [
    {
     "data": {
      "text/plain": [
       "TensorSpec(shape=(10,), dtype=tf.float32, name=None)"
      ]
     },
     "execution_count": 6,
     "metadata": {},
     "output_type": "execute_result"
    }
   ],
   "source": [
    "## 数据集结构\n",
    "#数据集会生成一系列元素，其中每个元素都是组件的相同（嵌套）结构。结构的各个组件可以是可由 tf.TypeSpec 表示的任何类型，\n",
    "#包括 tf.Tensor、tf.sparse.SparseTensor、tf.RaggedTensor、tf.TensorArray 或 tf.data.Dataset。\n",
    "\n",
    "#可用于表达元素的（嵌套）结构的 Python 构造包括 tuple、dict、NamedTuple 和 OrderedDict。特别要指出的是，list 不是用于表达数据集元素结构的有效构造。\n",
    "#这是因为早期的 tf.data 用户坚决要求将 list 输入（例如，传递到 tf.data.Dataset.from_tensors 时）自动打包为张量，并将 list 输出（例如，用户定义函数的返回值）强制转换为 tuple。\n",
    "#因此，如果您希望将 list 输入视为结构，则需要将其转换为 tuple，而如果要将 list 输出作为单个组件，则需要使用 tf.stack 将其显式打包。\n",
    "\n",
    "#Dataset.element_spec 属性允许您检查每个元素组件的类型。该属性会返回 tf.TypeSpec 对象与元素结构相匹配的嵌套结构，可以是单个组件、组件元组，或者组件的嵌套元组。例如：\n",
    "dataset1 = tf.data.Dataset.from_tensor_slices(tf.random.uniform([4, 10]))\n",
    "\n",
    "dataset1.element_spec"
   ]
  },
  {
   "cell_type": "code",
   "execution_count": 7,
   "metadata": {},
   "outputs": [
    {
     "data": {
      "text/plain": [
       "(TensorSpec(shape=(), dtype=tf.float32, name=None),\n",
       " TensorSpec(shape=(100,), dtype=tf.int32, name=None))"
      ]
     },
     "execution_count": 7,
     "metadata": {},
     "output_type": "execute_result"
    }
   ],
   "source": [
    "dataset2 = tf.data.Dataset.from_tensor_slices(\n",
    "   (tf.random.uniform([4]),\n",
    "    tf.random.uniform([4, 100], maxval=100, dtype=tf.int32)))\n",
    "\n",
    "dataset2.element_spec"
   ]
  },
  {
   "cell_type": "code",
   "execution_count": 8,
   "metadata": {},
   "outputs": [
    {
     "data": {
      "text/plain": [
       "(TensorSpec(shape=(10,), dtype=tf.float32, name=None),\n",
       " (TensorSpec(shape=(), dtype=tf.float32, name=None),\n",
       "  TensorSpec(shape=(100,), dtype=tf.int32, name=None)))"
      ]
     },
     "execution_count": 8,
     "metadata": {},
     "output_type": "execute_result"
    }
   ],
   "source": [
    "dataset3 = tf.data.Dataset.zip((dataset1, dataset2))\n",
    "\n",
    "dataset3.element_spec"
   ]
  },
  {
   "cell_type": "code",
   "execution_count": 9,
   "metadata": {},
   "outputs": [
    {
     "data": {
      "text/plain": [
       "SparseTensorSpec(TensorShape([3, 4]), tf.int32)"
      ]
     },
     "execution_count": 9,
     "metadata": {},
     "output_type": "execute_result"
    }
   ],
   "source": [
    "# Dataset containing a sparse tensor.\n",
    "dataset4 = tf.data.Dataset.from_tensors(tf.SparseTensor(indices=[[0, 0], [1, 2]], values=[1, 2], dense_shape=[3, 4]))\n",
    "\n",
    "dataset4.element_spec"
   ]
  },
  {
   "cell_type": "code",
   "execution_count": 10,
   "metadata": {},
   "outputs": [
    {
     "data": {
      "text/plain": [
       "<_TensorSliceDataset element_spec=TensorSpec(shape=(10,), dtype=tf.int32, name=None)>"
      ]
     },
     "execution_count": 10,
     "metadata": {},
     "output_type": "execute_result"
    }
   ],
   "source": [
    "#Dataset 转换支持任何结构的数据集。使用 Dataset.map 和 Dataset.filter 转换时会将函数应用于每个元素，而元素结构会决定函数的参数：\n",
    "dataset1 = tf.data.Dataset.from_tensor_slices(\n",
    "    tf.random.uniform([4, 10], minval=1, maxval=10, dtype=tf.int32))\n",
    "\n",
    "dataset1"
   ]
  },
  {
   "cell_type": "code",
   "execution_count": 11,
   "metadata": {},
   "outputs": [
    {
     "name": "stdout",
     "output_type": "stream",
     "text": [
      "[6 7 1 3 8 4 7 8 3 4]\n",
      "[5 7 3 2 5 3 6 9 1 1]\n",
      "[2 8 1 1 1 9 1 2 1 1]\n",
      "[6 3 4 7 5 8 5 9 9 1]\n"
     ]
    }
   ],
   "source": [
    "for z in dataset1:\n",
    "  print(z.numpy())"
   ]
  },
  {
   "cell_type": "code",
   "execution_count": 12,
   "metadata": {},
   "outputs": [
    {
     "data": {
      "text/plain": [
       "<_TensorSliceDataset element_spec=(TensorSpec(shape=(), dtype=tf.float32, name=None), TensorSpec(shape=(100,), dtype=tf.int32, name=None))>"
      ]
     },
     "execution_count": 12,
     "metadata": {},
     "output_type": "execute_result"
    }
   ],
   "source": [
    "dataset2 = tf.data.Dataset.from_tensor_slices(\n",
    "   (tf.random.uniform([4]),\n",
    "    tf.random.uniform([4, 100], maxval=100, dtype=tf.int32)))\n",
    "\n",
    "dataset2"
   ]
  },
  {
   "cell_type": "code",
   "execution_count": 13,
   "metadata": {},
   "outputs": [
    {
     "data": {
      "text/plain": [
       "<_ZipDataset element_spec=(TensorSpec(shape=(10,), dtype=tf.int32, name=None), (TensorSpec(shape=(), dtype=tf.float32, name=None), TensorSpec(shape=(100,), dtype=tf.int32, name=None)))>"
      ]
     },
     "execution_count": 13,
     "metadata": {},
     "output_type": "execute_result"
    }
   ],
   "source": [
    "dataset3 = tf.data.Dataset.zip((dataset1, dataset2))\n",
    "\n",
    "dataset3"
   ]
  },
  {
   "cell_type": "code",
   "execution_count": 14,
   "metadata": {},
   "outputs": [
    {
     "name": "stdout",
     "output_type": "stream",
     "text": [
      "shapes: (10,), (), (100,)\n",
      "shapes: (10,), (), (100,)\n",
      "shapes: (10,), (), (100,)\n",
      "shapes: (10,), (), (100,)\n"
     ]
    }
   ],
   "source": [
    "for a, (b,c) in dataset3:\n",
    "  print('shapes: {a.shape}, {b.shape}, {c.shape}'.format(a=a, b=b, c=c))"
   ]
  },
  {
   "cell_type": "code",
   "execution_count": null,
   "metadata": {},
   "outputs": [],
   "source": [
    "### 6.1.2 读取输入数据  - 网络故障，未运行\n",
    "## 1.使用Numpy数组\n",
    "train, test = tf.keras.datasets.fashion_mnist.load_data()\n",
    "images, labels = train\n",
    "images = images/255\n",
    "\n",
    "dataset = tf.data.Dataset.from_tensor_slices((images, labels))\n",
    "dataset\n"
   ]
  },
  {
   "cell_type": "code",
   "execution_count": null,
   "metadata": {},
   "outputs": [],
   "source": [
    "## 2.使用 Python 生成器\n",
    "#另一个可被轻松整合为 tf.data.Dataset 的常用数据源是 Python 生成器。\n",
    "#小心：虽然这种方式比较简便，但它的可移植性和可扩缩性有限。它必须在创建生成器的同一 Python 进程中运行，且仍受 Python GIL 约束。"
   ]
  },
  {
   "cell_type": "code",
   "execution_count": 15,
   "metadata": {},
   "outputs": [],
   "source": [
    "def count(stop):\n",
    "  i = 0\n",
    "  while i<stop:\n",
    "    yield i\n",
    "    i += 1"
   ]
  },
  {
   "cell_type": "code",
   "execution_count": 16,
   "metadata": {},
   "outputs": [
    {
     "name": "stdout",
     "output_type": "stream",
     "text": [
      "0\n",
      "1\n",
      "2\n",
      "3\n",
      "4\n"
     ]
    }
   ],
   "source": [
    "for n in count(5):\n",
    "  print(n)"
   ]
  },
  {
   "cell_type": "code",
   "execution_count": 17,
   "metadata": {},
   "outputs": [
    {
     "name": "stdout",
     "output_type": "stream",
     "text": [
      "[0 1 2 3 4 5 6 7 8 9]\n",
      "[10 11 12 13 14 15 16 17 18 19]\n",
      "[20 21 22 23 24  0  1  2  3  4]\n",
      "[ 5  6  7  8  9 10 11 12 13 14]\n",
      "[15 16 17 18 19 20 21 22 23 24]\n",
      "[0 1 2 3 4 5 6 7 8 9]\n",
      "[10 11 12 13 14 15 16 17 18 19]\n",
      "[20 21 22 23 24  0  1  2  3  4]\n",
      "[ 5  6  7  8  9 10 11 12 13 14]\n",
      "[15 16 17 18 19 20 21 22 23 24]\n"
     ]
    }
   ],
   "source": [
    "#Dataset.from_generator 构造函数会将 Python 生成器转换为具有完整功能的 tf.data.Dataset。\n",
    "#构造函数会获取可调用对象作为输入，而非迭代器。这样，构造函数结束后便可重启生成器。构造函数会获取一个可选的 args 参数，作为可调用对象的参数。\n",
    "#output_types 参数是必需的，因为 tf.data 会在内部构建 tf.Graph，而计算图边缘需要 tf.dtype。\n",
    "ds_counter = tf.data.Dataset.from_generator(count, args=[25], output_types=tf.int32, output_shapes = (), )\n",
    "for count_batch in ds_counter.repeat().batch(10).take(10):\n",
    "  print(count_batch.numpy())"
   ]
  },
  {
   "cell_type": "code",
   "execution_count": null,
   "metadata": {},
   "outputs": [],
   "source": [
    "## 3 处理 TFRecord 数据 -   - 网络故障，未运行\n",
    "#tf.data API 支持多种文件格式，因此可以处理不适合存储在内存中的大型数据集。\n",
    "#例如，TFRecord 文件格式是一种简单的、面向记录的二进制格式，许多 TensorFlow 应用都将其用于训练数据。\n",
    "#您可以利用 tf.data.TFRecordDataset 类将一个或多个 TFRecord 文件的内容作为输入流水线的一部分进行流式传输。\n",
    "\n",
    "#下面的示例使用了来自 French Street Name Signs (FSNS) 的测试文件。\n",
    "# Creates a dataset that reads all of the examples from two files.\n",
    "fsns_test_file = tf.keras.utils.get_file(\"fsns.tfrec\",\n",
    "                                          \"https://storage.googleapis.com/download.tensorflow.org/data/fsns-20160927/testdata/fsns-00000-of-00001\")"
   ]
  },
  {
   "cell_type": "code",
   "execution_count": null,
   "metadata": {},
   "outputs": [],
   "source": [
    "#TFRecordDataset 初始值设定项的 filenames 参数可以是字符串、字符串列表，或由字符串组成的 tf.Tensor。\n",
    "#因此，如果您有两组分别用于训练和验证的文件，则可以创建一个工厂方法来生成数据集，并将文件名作为输入参数：\n",
    "dataset = tf.data.TFRecordDataset(filenames = [fsns_test_file])\n",
    "dataset"
   ]
  },
  {
   "cell_type": "code",
   "execution_count": null,
   "metadata": {},
   "outputs": [],
   "source": [
    "#许多 TensorFlow 项目在其 TFRecord 文件中使用序列化的 tf.train.Example 记录。这些记录需要在检查前进行解码：\n",
    "raw_example = next(iter(dataset))\n",
    "parsed = tf.train.Example.FromString(raw_example.numpy())\n",
    "\n",
    "parsed.features.feature['image/text']"
   ]
  },
  {
   "cell_type": "code",
   "execution_count": null,
   "metadata": {},
   "outputs": [],
   "source": [
    "## 4 使用 CSV 数据 -  网络故障，未运行\n",
    "#CSV 文件格式是一种以纯文本形式存储表格数据的流行格式。\n",
    "titanic_file = tf.keras.utils.get_file(\"train.csv\", \"https://storage.googleapis.com/tf-datasets/titanic/train.csv\")"
   ]
  },
  {
   "cell_type": "code",
   "execution_count": null,
   "metadata": {},
   "outputs": [],
   "source": [
    "df = pd.read_csv(titanic_file)\n",
    "df.head()"
   ]
  },
  {
   "cell_type": "code",
   "execution_count": null,
   "metadata": {},
   "outputs": [],
   "source": [
    "#如果您的数据适合存储在内存中，那么 Dataset.from_tensor_slices 方法对字典同样有效，使这些数据可以被轻松导入：\n",
    "titanic_slices = tf.data.Dataset.from_tensor_slices(dict(df))\n",
    "\n",
    "for feature_batch in titanic_slices.take(1):\n",
    "  for key, value in feature_batch.items():\n",
    "    print(\"  {!r:20s}: {}\".format(key, value))"
   ]
  },
  {
   "cell_type": "code",
   "execution_count": 21,
   "metadata": {},
   "outputs": [
    {
     "name": "stdout",
     "output_type": "stream",
     "text": [
      "[array([0, 1, 2, 3], dtype=int64), array([ 0, -1, -2, -3], dtype=int64)] \n",
      "\n",
      "[array([4, 5, 6, 7], dtype=int64), array([-4, -5, -6, -7], dtype=int64)] \n",
      "\n",
      "[array([ 8,  9, 10, 11], dtype=int64), array([ -8,  -9, -10, -11], dtype=int64)] \n",
      "\n",
      "[array([12, 13, 14, 15], dtype=int64), array([-12, -13, -14, -15], dtype=int64)] \n",
      "\n"
     ]
    }
   ],
   "source": [
    "### 6.1.3 批处理数据集元素\n",
    "\n",
    "## 1.简单批处理\n",
    "#最简单的批处理方式是将数据集的 n 个连续元素堆叠成单个元素。Dataset.batch() 转换就负责执行此操作，\n",
    "#它有和 tf.stack() 算子相同的约束，应用于元素的每个组件：也就是说，对于每个组件 i，所有元素都必须有一个形状完全相同的张量。\n",
    "inc_dataset = tf.data.Dataset.range(100)\n",
    "dec_dataset = tf.data.Dataset.range(0, -100, -1)\n",
    "dataset = tf.data.Dataset.zip((inc_dataset, dec_dataset))\n",
    "batched_dataset = dataset.batch(4)\n",
    "\n",
    "for batch in batched_dataset.take(4):\n",
    "  print([arr.numpy() for arr in batch],'\\n')"
   ]
  },
  {
   "cell_type": "code",
   "execution_count": null,
   "metadata": {},
   "outputs": [],
   "source": [
    "batched_dataset = dataset.batch(4)\n",
    "\n",
    "for batch in batched_dataset.take(4):\n",
    "  print([arr.numpy() for arr in batch],'\\n')"
   ]
  },
  {
   "cell_type": "code",
   "execution_count": 22,
   "metadata": {},
   "outputs": [
    {
     "data": {
      "text/plain": [
       "<_BatchDataset element_spec=(TensorSpec(shape=(None,), dtype=tf.int64, name=None), TensorSpec(shape=(None,), dtype=tf.int64, name=None))>"
      ]
     },
     "execution_count": 22,
     "metadata": {},
     "output_type": "execute_result"
    }
   ],
   "source": [
    "#当 tf.data 试图传播形状信息时，Dataset.batch 的默认设置会导致未知的批次大小，因为最后一个批次可能不完整。请注意形状中的 None：\n",
    "batched_dataset"
   ]
  },
  {
   "cell_type": "code",
   "execution_count": 23,
   "metadata": {},
   "outputs": [
    {
     "data": {
      "text/plain": [
       "<_BatchDataset element_spec=(TensorSpec(shape=(7,), dtype=tf.int64, name=None), TensorSpec(shape=(7,), dtype=tf.int64, name=None))>"
      ]
     },
     "execution_count": 23,
     "metadata": {},
     "output_type": "execute_result"
    }
   ],
   "source": [
    "#使用 drop_remainder 参数忽略最后一个批次，以获得完整的形状传播：\n",
    "batched_dataset = dataset.batch(7, drop_remainder=True)\n",
    "batched_dataset"
   ]
  },
  {
   "cell_type": "code",
   "execution_count": 49,
   "metadata": {},
   "outputs": [
    {
     "name": "stdout",
     "output_type": "stream",
     "text": [
      "[]\n",
      "\n",
      "[1]\n",
      "\n",
      "[2 2]\n",
      "\n",
      "[3 3 3]\n",
      "\n",
      "[4 4 4 4]\n",
      "\n",
      "[5 5 5 5 5]\n",
      "\n",
      "[6 6 6 6 6 6]\n",
      "\n",
      "[7 7 7 7 7 7 7]\n",
      "\n"
     ]
    }
   ],
   "source": [
    "## 2.批处理带填充的张量  - 很重要，DIN等序列模型必须要处理这种情况\n",
    "#上述方式适用于所有具有相同大小的张量。然而，许多模型（包括序列模型）处理的输入数据可能具有不同的大小（例如，长度不同的序列）。\n",
    "#为了处理这种情况，可以通过 Dataset.padded_batch 转换指定一个或多个可能被填充的维度，从而批处理不同形状的张量。\n",
    "dataset = tf.data.Dataset.range(100)\n",
    "dataset = dataset.map(lambda x: tf.fill([tf.cast(x, tf.int32)], x))\n",
    "\n",
    "for batch in dataset.take(8):\n",
    "  print(batch.numpy())\n",
    "  print()"
   ]
  },
  {
   "cell_type": "code",
   "execution_count": 50,
   "metadata": {},
   "outputs": [
    {
     "name": "stdout",
     "output_type": "stream",
     "text": [
      "[[0]\n",
      " [1]]\n",
      "\n",
      "[[2 2 0]\n",
      " [3 3 3]]\n",
      "\n",
      "[[4 4 4 4 0]\n",
      " [5 5 5 5 5]]\n",
      "\n",
      "[[6 6 6 6 6 6 0]\n",
      " [7 7 7 7 7 7 7]]\n",
      "\n"
     ]
    }
   ],
   "source": [
    "dataset = dataset.padded_batch(batch_size = 2, padded_shapes=(None,))   #每个batch内补齐\n",
    "for batch in dataset.take(4):\n",
    "  print(batch.numpy())\n",
    "  print()"
   ]
  },
  {
   "cell_type": "code",
   "execution_count": null,
   "metadata": {},
   "outputs": [],
   "source": [
    "### 6.1.4 训练工作流 - 网络故障，未运行\n",
    "## 1.处理多个周期\n",
    "#tf.data API 提供了两种主要方式来处理同一数据的多个周期。\n",
    "#要在多个周期内迭代数据集，最简单的方式是使用 Dataset.repeat() 转换。首先，创建一个由 Titanic 数据组成的数据集：\n",
    "titanic_file = tf.keras.utils.get_file(\"train.csv\", \"https://storage.googleapis.com/tf-datasets/titanic/train.csv\")\n",
    "titanic_lines = tf.data.TextLineDataset(titanic_file)\n",
    "\n",
    "def plot_batch_sizes(ds):\n",
    "  batch_sizes = [batch.shape[0] for batch in ds]\n",
    "  plt.bar(range(len(batch_sizes)), batch_sizes)\n",
    "  plt.xlabel('Batch number')\n",
    "  plt.ylabel('Batch size')"
   ]
  },
  {
   "cell_type": "code",
   "execution_count": null,
   "metadata": {},
   "outputs": [],
   "source": [
    "#如果应用不带参数的 Dataset.repeat() 转换，将无限次地重复输入。\n",
    "#Dataset.repeat 转换会连接其参数，而不会在一个周期结束和下一个周期开始时发出信号。因此，在 Dataset.repeat 之后应用的 Dataset.batch 将生成跨越周期边界的批次：\n",
    "titanic_batches = titanic_lines.repeat(3).batch(128)\n",
    "plot_batch_sizes(titanic_batches)"
   ]
  },
  {
   "attachments": {
    "image.png": {
     "image/png": "[encoded data removed]"
    }
   },
   "cell_type": "markdown",
   "metadata": {},
   "source": [
    "![image.png](attachment:image.png)"
   ]
  },
  {
   "cell_type": "code",
   "execution_count": null,
   "metadata": {},
   "outputs": [],
   "source": [
    "#如果您需要明确的周期分隔，请将 Dataset.batch 置于重复前：\n",
    "titanic_batches = titanic_lines.batch(128).repeat(3)\n",
    "\n",
    "plot_batch_sizes(titanic_batches)"
   ]
  },
  {
   "attachments": {
    "image.png": {
     "image/png": "[encoded data removed]"
    }
   },
   "cell_type": "markdown",
   "metadata": {},
   "source": [
    "![image.png](attachment:image.png)"
   ]
  },
  {
   "cell_type": "code",
   "execution_count": null,
   "metadata": {},
   "outputs": [],
   "source": [
    "## 2.随机重排输入数据\n",
    "#Dataset.shuffle() 转换会维持一个固定大小的缓冲区，并从该缓冲区均匀地随机选择下一个元素：\n",
    "#注：虽然较大的 buffer_size 可以更彻底地重排，但可能会占用大量的内存和时间来填充。\n",
    "\n",
    "#向数据集添加索引，便能看到效果：\n",
    "lines = tf.data.TextLineDataset(titanic_file)\n",
    "counter = tf.data.experimental.Counter()\n",
    "\n",
    "dataset = tf.data.Dataset.zip((counter, lines))\n",
    "dataset = dataset.shuffle(buffer_size=100)\n",
    "dataset = dataset.batch(20)\n",
    "dataset\n",
    "\n"
   ]
  },
  {
   "cell_type": "code",
   "execution_count": null,
   "metadata": {},
   "outputs": [],
   "source": [
    "#由于 buffer_size 是 100，而批次大小是 20，第一个批次不包含索引大于 120 的元素。\n",
    "n,line_batch = next(iter(dataset))\n",
    "print(n.numpy())"
   ]
  },
  {
   "cell_type": "code",
   "execution_count": null,
   "metadata": {},
   "outputs": [],
   "source": [
    "#对于 Dataset.batch，与 Dataset.repeat 的相对顺序很重要。\n",
    "#在重排缓冲区为空之前，Dataset.shuffle 不会发出周期结束的信号。因此，置于重复之前的重排会先显示一个周期内的每个元素，然后移至下一个周期：\n",
    "dataset = tf.data.Dataset.zip((counter, lines))\n",
    "shuffled = dataset.shuffle(buffer_size=100).batch(10).repeat(2)\n",
    "\n",
    "print(\"Here are the item ID's near the epoch boundary:\\n\")\n",
    "for n, line_batch in shuffled.skip(60).take(5):\n",
    "  print(n.numpy())"
   ]
  },
  {
   "cell_type": "code",
   "execution_count": null,
   "metadata": {},
   "outputs": [],
   "source": [
    "shuffle_repeat = [n.numpy().mean() for n, line_batch in shuffled]\n",
    "plt.plot(shuffle_repeat, label=\"shuffle().repeat()\")\n",
    "plt.ylabel(\"Mean item ID\")\n",
    "plt.legend()"
   ]
  },
  {
   "attachments": {
    "image.png": {
     "image/png": "[encoded data removed]"
    }
   },
   "cell_type": "markdown",
   "metadata": {},
   "source": [
    "![image.png](attachment:image.png)"
   ]
  },
  {
   "cell_type": "code",
   "execution_count": null,
   "metadata": {},
   "outputs": [],
   "source": [
    "#但在重排之前的重复会将周期边界混合在一起：\n",
    "dataset = tf.data.Dataset.zip((counter, lines))\n",
    "shuffled = dataset.repeat(2).shuffle(buffer_size=100).batch(10)\n",
    "\n",
    "print(\"Here are the item ID's near the epoch boundary:\\n\")\n",
    "for n, line_batch in shuffled.skip(55).take(15):\n",
    "  print(n.numpy())\n",
    "\n",
    "  "
   ]
  },
  {
   "cell_type": "code",
   "execution_count": null,
   "metadata": {},
   "outputs": [],
   "source": [
    "repeat_shuffle = [n.numpy().mean() for n, line_batch in shuffled]\n",
    "\n",
    "plt.plot(shuffle_repeat, label=\"shuffle().repeat()\")\n",
    "plt.plot(repeat_shuffle, label=\"repeat().shuffle()\")\n",
    "plt.ylabel(\"Mean item ID\")\n",
    "plt.legend()"
   ]
  },
  {
   "attachments": {
    "image.png": {
     "image/png": "[encoded data removed]"
    }
   },
   "cell_type": "markdown",
   "metadata": {},
   "source": [
    "![image.png](attachment:image.png)"
   ]
  },
  {
   "cell_type": "code",
   "execution_count": null,
   "metadata": {},
   "outputs": [],
   "source": [
    "### 6.1.5 迭代器检查点操作 - 重要，但是增量训练场景下又不那么重要\n",
    "#TensorFlow 支持获取检查点 ，这样当训练过程重启时，可以还原至最新的检查点，从而恢复大部分进度。除了可以对模型变量进行检查点操作外，您还可以为数据集迭代器的进度设置检查点。如果您有一个很大的数据集，并且不想在每次重启后都从头开始，此功能会非常有用。但是请注意，迭代器检查点可能会很大，因为像 Dataset.shuffle 和 Dataset.prefetch 之类的转换需要在迭代器内缓冲元素。\n",
    "\n",
    "#要在检查点中包含迭代器，请将迭代器传递至 tf.train.Checkpoint 构造函数。\n",
    "range_ds = tf.data.Dataset.range(20)\n",
    "\n",
    "iterator = iter(range_ds)\n",
    "ckpt = tf.train.Checkpoint(step=tf.Variable(0), iterator=iterator)\n",
    "manager = tf.train.CheckpointManager(ckpt, '/tmp/my_ckpt', max_to_keep=3)\n",
    "\n",
    "print([next(iterator).numpy() for _ in range(5)])\n",
    "\n",
    "save_path = manager.save()\n",
    "\n",
    "print([next(iterator).numpy() for _ in range(5)])\n",
    "\n",
    "ckpt.restore(manager.latest_checkpoint)\n",
    "\n",
    "print([next(iterator).numpy() for _ in range(5)])"
   ]
  },
  {
   "cell_type": "code",
   "execution_count": null,
   "metadata": {},
   "outputs": [],
   "source": [
    "### 6.1.6 结合使用 tf.data 与 tf.keras - 网络故障，未运行\n",
    "#tf.keras API 在创建和执行机器学习模型的许多方面进行了简化。\n",
    "#它的 Model.fit、Model.evaluate 和 Model.predict API 支持将数据集作为输入。下面是一个快速的数据集和模型设置：\n",
    "train, test = tf.keras.datasets.fashion_mnist.load_data()\n",
    "\n",
    "images, labels = train\n",
    "images = images/255.0\n",
    "labels = labels.astype(np.int32)"
   ]
  },
  {
   "cell_type": "code",
   "execution_count": null,
   "metadata": {},
   "outputs": [],
   "source": [
    "fmnist_train_ds = tf.data.Dataset.from_tensor_slices((images, labels))\n",
    "fmnist_train_ds = fmnist_train_ds.shuffle(5000).batch(32)\n",
    "\n",
    "model = tf.keras.Sequential([\n",
    "  tf.keras.layers.Flatten(),\n",
    "  tf.keras.layers.Dense(10)\n",
    "])\n",
    "\n",
    "model.compile(optimizer='adam',\n",
    "              loss=tf.keras.losses.SparseCategoricalCrossentropy(from_logits=True), \n",
    "              metrics=['accuracy'])"
   ]
  },
  {
   "cell_type": "code",
   "execution_count": null,
   "metadata": {},
   "outputs": [],
   "source": [
    "#只需向 Model.fit 和 Model.evaluate 传递一个由 (feature, label) 对组成的数据集：\n",
    "model.fit(fmnist_train_ds, epochs=2)"
   ]
  },
  {
   "cell_type": "code",
   "execution_count": null,
   "metadata": {},
   "outputs": [],
   "source": [
    "#如果您要传递一个无限大的数据集（比如通过调用 Dataset.repeat），您只需要同时传递 steps_per_epoch 参数：\n",
    "model.fit(fmnist_train_ds.repeat(), epochs=2, steps_per_epoch=20)"
   ]
  },
  {
   "cell_type": "code",
   "execution_count": null,
   "metadata": {},
   "outputs": [],
   "source": [
    "#对于评估，可以传递评估步数：\n",
    "loss, accuracy = model.evaluate(fmnist_train_ds)\n",
    "print(\"Loss :\", loss)\n",
    "print(\"Accuracy :\", accuracy)"
   ]
  },
  {
   "cell_type": "code",
   "execution_count": null,
   "metadata": {},
   "outputs": [],
   "source": [
    "#对于长数据集，可以设置要评估的步数：\n",
    "loss, accuracy = model.evaluate(fmnist_train_ds.repeat(), steps=10)\n",
    "print(\"Loss :\", loss)\n",
    "print(\"Accuracy :\", accuracy)"
   ]
  },
  {
   "cell_type": "code",
   "execution_count": null,
   "metadata": {},
   "outputs": [],
   "source": [
    "#调用 Model.predict 时不需要标签。\n",
    "predict_ds = tf.data.Dataset.from_tensor_slices(images).batch(32)\n",
    "result = model.predict(predict_ds, steps = 10)\n",
    "print(result.shape)"
   ]
  },
  {
   "cell_type": "code",
   "execution_count": null,
   "metadata": {},
   "outputs": [],
   "source": [
    "#但是，如果您传递了包含标签的数据集，则标签会被忽略：\n",
    "result = model.predict(fmnist_train_ds, steps = 10)\n",
    "print(result.shape)"
   ]
  },
  {
   "cell_type": "code",
   "execution_count": 86,
   "metadata": {},
   "outputs": [
    {
     "name": "stderr",
     "output_type": "stream",
     "text": [
      "C:\\Users\\yuanshuai\\AppData\\Local\\Temp\\ipykernel_22648\\1921210607.py:27: DeprecationWarning: Conversion of an array with ndim > 0 to a scalar is deprecated, and will error in future. Ensure you extract a single element from your array before performing this operation. (Deprecated NumPy 1.25.)\n",
      "  'label': tf.train.Feature(int64_list=tf.train.Int64List(value=[int(label)]))\n"
     ]
    },
    {
     "name": "stdout",
     "output_type": "stream",
     "text": [
      "features {\n",
      "  feature {\n",
      "    key: \"label\"\n",
      "    value {\n",
      "      int64_list {\n",
      "        value: 9\n",
      "      }\n",
      "    }\n",
      "  }\n",
      "  feature {\n",
      "    key: \"image\"\n",
      "    value {\n",
      "      float_list {\n",
      "        value: 0.0267980602\n",
      "        value: 0.188709766\n",
      "        value: 0.857878268\n",
      "        value: 0.0523615852\n",
      "        value: 0.615810215\n",
      "        value: 0.963908255\n",
      "        value: 0.563105583\n",
      "        value: 0.216997728\n",
      "        value: 0.952024281\n",
      "        value: 0.433552533\n",
      "        value: 0.259844\n",
      "        value: 0.613800406\n",
      "        value: 0.50800252\n",
      "        value: 0.877192199\n",
      "        value: 0.986385167\n",
      "        value: 0.476436436\n",
      "        value: 0.609690666\n",
      "        value: 0.600470603\n",
      "        value: 0.542124\n",
      "        value: 0.673573256\n",
      "        value: 0.324994713\n",
      "        value: 0.0994925573\n",
      "        value: 0.645085\n",
      "        value: 0.711700737\n",
      "        value: 0.585840285\n",
      "        value: 0.840572774\n",
      "        value: 0.27299729\n",
      "        value: 0.0564912707\n",
      "        value: 0.463685691\n",
      "        value: 0.783679724\n",
      "        value: 0.247664049\n",
      "        value: 0.459035695\n",
      "        value: 0.706034482\n",
      "        value: 0.414414883\n",
      "        value: 0.0713832751\n",
      "        value: 0.789747119\n",
      "        value: 0.746949673\n",
      "        value: 0.673708081\n",
      "        value: 0.707643628\n",
      "        value: 0.82876277\n",
      "        value: 0.0215617213\n",
      "        value: 0.75259304\n",
      "        value: 0.323389411\n",
      "        value: 0.868206501\n",
      "        value: 0.390679777\n",
      "        value: 0.0645133778\n",
      "        value: 0.432815641\n",
      "        value: 0.234640151\n",
      "        value: 0.858918965\n",
      "        value: 0.992293596\n",
      "        value: 0.606950343\n",
      "        value: 0.370508\n",
      "        value: 0.476616174\n",
      "        value: 0.940311074\n",
      "        value: 0.315113634\n",
      "        value: 0.825175881\n",
      "        value: 0.289794117\n",
      "        value: 0.594803631\n",
      "        value: 0.770843\n",
      "        value: 0.0632343218\n",
      "        value: 0.365694672\n",
      "        value: 0.662234366\n",
      "        value: 0.0215213299\n",
      "        value: 0.427820832\n",
      "        value: 0.911352813\n",
      "        value: 0.839776635\n",
      "        value: 0.863295078\n",
      "        value: 0.588465452\n",
      "        value: 0.579763\n",
      "        value: 0.0864004344\n",
      "        value: 0.414479703\n",
      "        value: 0.975860178\n",
      "        value: 0.346495152\n",
      "        value: 0.992221951\n",
      "        value: 0.631879151\n",
      "        value: 0.701911\n",
      "        value: 0.998472869\n",
      "        value: 0.254108667\n",
      "        value: 0.97924608\n",
      "        value: 0.254561245\n",
      "        value: 0.218889803\n",
      "        value: 0.895571351\n",
      "        value: 0.530130684\n",
      "        value: 0.34530139\n",
      "        value: 0.557324648\n",
      "        value: 0.958347738\n",
      "        value: 0.63547647\n",
      "        value: 0.242946282\n",
      "        value: 0.262125552\n",
      "        value: 0.518835366\n",
      "        value: 0.37914753\n",
      "        value: 0.69637394\n",
      "        value: 0.477820158\n",
      "        value: 0.103916161\n",
      "        value: 0.126797\n",
      "        value: 0.675978303\n",
      "        value: 0.0409232154\n",
      "        value: 0.0387041122\n",
      "        value: 0.98908031\n",
      "        value: 0.718071759\n",
      "        value: 0.669341505\n",
      "        value: 0.518738806\n",
      "        value: 0.424655259\n",
      "        value: 0.0732880309\n",
      "        value: 0.930155337\n",
      "        value: 0.596449494\n",
      "        value: 0.195534959\n",
      "        value: 0.406874895\n",
      "        value: 0.0511928499\n",
      "        value: 0.992095649\n",
      "        value: 0.30140394\n",
      "        value: 0.833695233\n",
      "        value: 0.935464203\n",
      "        value: 0.196736753\n",
      "        value: 0.365503758\n",
      "        value: 0.94185853\n",
      "        value: 0.894181\n",
      "        value: 0.611828625\n",
      "        value: 0.932849586\n",
      "        value: 0.614451349\n",
      "        value: 0.678304851\n",
      "        value: 0.993031919\n",
      "        value: 0.147814482\n",
      "        value: 0.423403233\n",
      "        value: 0.911624968\n",
      "        value: 0.50399673\n",
      "        value: 0.0642880797\n",
      "        value: 0.142302975\n",
      "        value: 0.723017037\n",
      "        value: 0.093279779\n",
      "        value: 0.603967845\n",
      "        value: 0.774935126\n",
      "        value: 0.273705542\n",
      "        value: 0.659625292\n",
      "        value: 0.368249297\n",
      "        value: 0.832841039\n",
      "        value: 0.863594234\n",
      "        value: 0.179827511\n",
      "        value: 0.896021903\n",
      "        value: 0.506187379\n",
      "        value: 0.531677723\n",
      "        value: 0.329248548\n",
      "        value: 0.802345753\n",
      "        value: 0.837118626\n",
      "        value: 0.746996522\n",
      "        value: 0.224274307\n",
      "        value: 0.0348254517\n",
      "        value: 0.272270232\n",
      "        value: 0.0284815952\n",
      "        value: 0.0213524196\n",
      "        value: 0.983123958\n",
      "        value: 0.903475761\n",
      "        value: 0.206193924\n",
      "        value: 0.00591026666\n",
      "        value: 0.179253712\n",
      "        value: 0.179251179\n",
      "        value: 0.89904952\n",
      "        value: 0.938807249\n",
      "        value: 0.819938362\n",
      "        value: 0.199110985\n",
      "        value: 0.287435085\n",
      "        value: 0.672730148\n",
      "        value: 0.0552784726\n",
      "        value: 0.145265833\n",
      "        value: 0.103259228\n",
      "        value: 0.777324259\n",
      "        value: 0.452570289\n",
      "        value: 0.390652657\n",
      "        value: 0.140335575\n",
      "        value: 0.867744148\n",
      "        value: 0.529478967\n",
      "        value: 0.245087728\n",
      "        value: 0.894276083\n",
      "        value: 0.866496086\n",
      "        value: 0.969041348\n",
      "        value: 0.13785474\n",
      "        value: 0.777736604\n",
      "        value: 0.0473369285\n",
      "        value: 0.972027\n",
      "        value: 0.839610279\n",
      "        value: 0.627450109\n",
      "        value: 0.0066274358\n",
      "        value: 0.729278266\n",
      "        value: 0.19314231\n",
      "        value: 0.913384795\n",
      "        value: 0.354313016\n",
      "        value: 0.22322841\n",
      "        value: 0.993164837\n",
      "        value: 0.0803613141\n",
      "        value: 0.254574984\n",
      "        value: 0.686321616\n",
      "        value: 0.838260412\n",
      "        value: 0.163666412\n",
      "        value: 0.00775134377\n",
      "        value: 0.819301128\n",
      "        value: 0.467230231\n",
      "        value: 0.983898222\n",
      "        value: 0.200433895\n",
      "        value: 0.818431795\n",
      "        value: 0.643793821\n",
      "        value: 0.152807131\n",
      "        value: 0.732007325\n",
      "        value: 0.828969717\n",
      "        value: 0.389781624\n",
      "        value: 0.714769721\n",
      "        value: 0.528016329\n",
      "        value: 0.252953321\n",
      "        value: 0.863688409\n",
      "        value: 0.430004388\n",
      "        value: 0.374434382\n",
      "        value: 0.0796822757\n",
      "        value: 0.125303671\n",
      "        value: 0.983334482\n",
      "        value: 0.107832342\n",
      "        value: 0.973491907\n",
      "        value: 0.50596112\n",
      "        value: 0.527387142\n",
      "        value: 0.349651635\n",
      "        value: 0.882894754\n",
      "        value: 0.707529545\n",
      "        value: 0.156778321\n",
      "        value: 0.500173926\n",
      "        value: 0.766207\n",
      "        value: 0.909889519\n",
      "        value: 0.948794901\n",
      "        value: 0.837834895\n",
      "        value: 0.627385795\n",
      "        value: 0.359112203\n",
      "        value: 0.148863927\n",
      "        value: 0.301701516\n",
      "        value: 0.500582635\n",
      "        value: 0.938812375\n",
      "        value: 0.265637636\n",
      "        value: 0.548693061\n",
      "        value: 0.975873053\n",
      "        value: 0.937121153\n",
      "        value: 0.0783405304\n",
      "        value: 0.534652233\n",
      "        value: 0.682382762\n",
      "        value: 0.407631278\n",
      "        value: 0.945453286\n",
      "        value: 0.26906243\n",
      "        value: 0.0406846963\n",
      "        value: 0.734136522\n",
      "        value: 0.738653421\n",
      "        value: 0.727109909\n",
      "        value: 0.638906658\n",
      "        value: 0.989193738\n",
      "        value: 0.870843112\n",
      "        value: 0.88000536\n",
      "        value: 0.323104739\n",
      "        value: 0.871479094\n",
      "        value: 0.280944705\n",
      "        value: 0.964308679\n",
      "        value: 0.604122341\n",
      "        value: 0.409993321\n",
      "        value: 0.148701161\n",
      "        value: 0.0732843131\n",
      "        value: 0.928500354\n",
      "        value: 0.986206889\n",
      "        value: 0.0911184847\n",
      "        value: 0.184682339\n",
      "        value: 0.736444\n",
      "        value: 0.349299043\n",
      "        value: 0.120655119\n",
      "        value: 0.971302\n",
      "        value: 0.459900588\n",
      "        value: 0.346117377\n",
      "        value: 0.243243158\n",
      "        value: 0.0279630944\n",
      "        value: 0.355795175\n",
      "        value: 0.278794765\n",
      "        value: 0.940552592\n",
      "        value: 0.390614659\n",
      "        value: 0.752946734\n",
      "        value: 0.263664544\n",
      "        value: 0.263608754\n",
      "        value: 0.261398464\n",
      "        value: 0.00873672\n",
      "        value: 0.0865145\n",
      "        value: 0.832760036\n",
      "        value: 0.683862\n",
      "        value: 0.713144183\n",
      "        value: 0.623293459\n",
      "        value: 0.865397\n",
      "        value: 0.252362251\n",
      "        value: 0.229398608\n",
      "        value: 0.179483205\n",
      "        value: 0.634157419\n",
      "        value: 0.677960932\n",
      "        value: 0.960987091\n",
      "        value: 0.517312765\n",
      "        value: 0.0468995124\n",
      "        value: 0.887282491\n",
      "        value: 0.952321768\n",
      "        value: 0.299651146\n",
      "        value: 0.730160832\n",
      "        value: 0.894746542\n",
      "        value: 0.130022645\n",
      "        value: 0.0384083316\n",
      "        value: 0.390273392\n",
      "        value: 0.51300633\n",
      "        value: 0.477454\n",
      "        value: 0.531819165\n",
      "        value: 0.944515705\n",
      "        value: 0.384191513\n",
      "        value: 0.594272316\n",
      "        value: 0.258116782\n",
      "        value: 0.170168489\n",
      "        value: 0.76573658\n",
      "        value: 0.930145085\n",
      "        value: 0.68509841\n",
      "        value: 0.436796784\n",
      "        value: 0.902009606\n",
      "        value: 0.598091066\n",
      "        value: 0.137004286\n",
      "        value: 0.572729468\n",
      "        value: 0.381089926\n",
      "        value: 0.853322268\n",
      "        value: 0.299686611\n",
      "        value: 0.0780353\n",
      "        value: 0.508060336\n",
      "        value: 0.0502198115\n",
      "        value: 0.292070478\n",
      "        value: 0.447422504\n",
      "        value: 0.137153193\n",
      "        value: 0.428327978\n",
      "        value: 0.0382822081\n",
      "        value: 0.910596728\n",
      "        value: 0.617474318\n",
      "        value: 0.321716279\n",
      "        value: 0.956755102\n",
      "        value: 0.35469532\n",
      "        value: 0.571158171\n",
      "        value: 0.918508112\n",
      "        value: 0.441299021\n",
      "        value: 0.256030828\n",
      "        value: 0.545810103\n",
      "        value: 0.358921915\n",
      "        value: 0.945764244\n",
      "        value: 0.738968492\n",
      "        value: 0.77517128\n",
      "        value: 0.949379\n",
      "        value: 0.557178199\n",
      "        value: 0.00095049612\n",
      "        value: 0.899354815\n",
      "        value: 0.479389697\n",
      "        value: 0.00619103806\n",
      "        value: 0.0570790768\n",
      "        value: 0.832131684\n",
      "        value: 0.318066716\n",
      "        value: 0.141651\n",
      "        value: 0.804237664\n",
      "        value: 0.960602522\n",
      "        value: 0.967252851\n",
      "        value: 0.15793854\n",
      "        value: 0.627156913\n",
      "        value: 0.420738548\n",
      "        value: 0.216066256\n",
      "        value: 0.636774\n",
      "        value: 0.705951571\n",
      "        value: 1.72965e-005\n",
      "        value: 0.740432441\n",
      "        value: 0.55749321\n",
      "        value: 0.452167869\n",
      "        value: 0.652264237\n",
      "        value: 0.241425365\n",
      "        value: 0.239607364\n",
      "        value: 0.433032334\n",
      "        value: 0.780820429\n",
      "        value: 0.476312101\n",
      "        value: 0.176103935\n",
      "        value: 0.211275801\n",
      "        value: 0.394872159\n",
      "        value: 0.305374473\n",
      "        value: 0.991497\n",
      "        value: 0.481515259\n",
      "        value: 0.978199661\n",
      "        value: 0.949085176\n",
      "        value: 0.335803509\n",
      "        value: 0.520120203\n",
      "        value: 0.523082435\n",
      "        value: 0.170622513\n",
      "        value: 0.182794407\n",
      "        value: 0.194782376\n",
      "        value: 0.810303\n",
      "        value: 0.663868904\n",
      "        value: 0.549949169\n",
      "        value: 0.348324537\n",
      "        value: 0.540358901\n",
      "        value: 0.901613414\n",
      "        value: 0.68179363\n",
      "        value: 0.807112694\n",
      "        value: 0.34141627\n",
      "        value: 0.481813431\n",
      "        value: 0.0442904681\n",
      "        value: 0.19133848\n",
      "        value: 0.133397684\n",
      "        value: 0.431130946\n",
      "        value: 0.641815603\n",
      "        value: 0.331499606\n",
      "        value: 0.132285848\n",
      "        value: 0.533444762\n",
      "        value: 0.587697566\n",
      "        value: 0.866336644\n",
      "        value: 0.117367119\n",
      "        value: 0.618364632\n",
      "        value: 0.8093642\n",
      "        value: 0.935563266\n",
      "        value: 0.73863858\n",
      "        value: 0.00280689402\n",
      "        value: 0.111330569\n",
      "        value: 0.81080693\n",
      "        value: 0.981659353\n",
      "        value: 0.285488099\n",
      "        value: 0.94495523\n",
      "        value: 0.948799372\n",
      "        value: 0.78733927\n",
      "        value: 0.697467685\n",
      "        value: 0.37094143\n",
      "        value: 0.303431332\n",
      "        value: 0.0450504944\n",
      "        value: 0.156411931\n",
      "        value: 0.380813867\n",
      "        value: 0.471740931\n",
      "        value: 0.250024736\n",
      "        value: 0.962766469\n",
      "        value: 0.733433485\n",
      "        value: 0.416037023\n",
      "        value: 0.427550435\n",
      "        value: 0.934749067\n",
      "        value: 0.0928987041\n",
      "        value: 0.479036659\n",
      "        value: 0.864689112\n",
      "        value: 0.770922065\n",
      "        value: 0.673371792\n",
      "        value: 0.708156228\n",
      "        value: 0.690882802\n",
      "        value: 0.885704041\n",
      "        value: 0.278922826\n",
      "        value: 0.56480664\n",
      "        value: 0.0428990535\n",
      "        value: 0.918824\n",
      "        value: 0.824081779\n",
      "        value: 0.201625183\n",
      "        value: 0.782096505\n",
      "        value: 0.934773684\n",
      "        value: 0.72295022\n",
      "        value: 0.246807575\n",
      "        value: 0.674837828\n",
      "        value: 0.0623126589\n",
      "        value: 0.770861149\n",
      "        value: 0.747398317\n",
      "        value: 0.751106799\n",
      "        value: 0.809856296\n",
      "        value: 0.588275552\n",
      "        value: 0.671538889\n",
      "        value: 0.648549378\n",
      "        value: 0.999305964\n",
      "        value: 0.486469626\n",
      "        value: 0.888405561\n",
      "        value: 0.75100106\n",
      "        value: 0.137118176\n",
      "        value: 0.463761687\n",
      "        value: 0.04610743\n",
      "        value: 0.882174432\n",
      "        value: 0.442020923\n",
      "        value: 0.430394351\n",
      "        value: 0.759476721\n",
      "        value: 0.292228907\n",
      "        value: 0.109173372\n",
      "        value: 0.712316096\n",
      "        value: 0.143866047\n",
      "        value: 0.087178655\n",
      "        value: 0.435834467\n",
      "        value: 0.33758688\n",
      "        value: 0.656080782\n",
      "        value: 0.7673738\n",
      "        value: 0.40003714\n",
      "        value: 0.728320122\n",
      "        value: 0.209316134\n",
      "        value: 0.243473321\n",
      "        value: 0.603846133\n",
      "        value: 0.712385595\n",
      "        value: 0.489969552\n",
      "        value: 0.280983955\n",
      "        value: 0.578392744\n",
      "        value: 0.278448075\n",
      "        value: 0.574091613\n",
      "        value: 0.991404951\n",
      "        value: 0.956887901\n",
      "        value: 0.436515093\n",
      "        value: 0.983015716\n",
      "        value: 0.0818434879\n",
      "        value: 0.263979197\n",
      "        value: 0.4537251\n",
      "        value: 0.761007369\n",
      "        value: 0.913231909\n",
      "        value: 0.684139\n",
      "        value: 0.523895442\n",
      "        value: 0.468507946\n",
      "        value: 0.592855\n",
      "        value: 0.970014\n",
      "        value: 0.324255019\n",
      "        value: 0.806976438\n",
      "        value: 0.986651599\n",
      "        value: 0.678272665\n",
      "        value: 0.0456449203\n",
      "        value: 0.832776546\n",
      "        value: 0.0816874802\n",
      "        value: 0.0025555531\n",
      "        value: 0.917467237\n",
      "        value: 0.121870145\n",
      "        value: 0.0435866937\n",
      "        value: 0.311267138\n",
      "        value: 0.725672245\n",
      "        value: 0.661318243\n",
      "        value: 0.556885719\n",
      "        value: 0.752015889\n",
      "        value: 0.601160884\n",
      "        value: 0.214703992\n",
      "        value: 0.978057\n",
      "        value: 0.0106060626\n",
      "        value: 0.629303753\n",
      "        value: 0.31498602\n",
      "        value: 0.878869295\n",
      "        value: 0.348589897\n",
      "        value: 0.296414614\n",
      "        value: 0.371100098\n",
      "        value: 0.954512179\n",
      "        value: 0.586158752\n",
      "        value: 0.0331200399\n",
      "        value: 0.96692431\n",
      "        value: 0.764500499\n",
      "        value: 0.727072358\n",
      "        value: 0.608342469\n",
      "        value: 0.636015594\n",
      "        value: 0.1353589\n",
      "        value: 0.724753201\n",
      "        value: 0.639775634\n",
      "        value: 0.484623224\n",
      "        value: 0.237046063\n",
      "        value: 0.450513959\n",
      "        value: 0.926295102\n",
      "        value: 0.819771826\n",
      "        value: 0.40614906\n",
      "        value: 0.218732044\n",
      "        value: 0.216296092\n",
      "        value: 0.0647617579\n",
      "        value: 0.711581767\n",
      "        value: 0.933161199\n",
      "        value: 0.832118273\n",
      "        value: 0.745766521\n",
      "        value: 0.860911727\n",
      "        value: 0.291668177\n",
      "        value: 0.871229112\n",
      "        value: 0.368359536\n",
      "        value: 0.146426752\n",
      "        value: 0.102559365\n",
      "        value: 0.104568958\n",
      "        value: 0.345124692\n",
      "        value: 0.539104\n",
      "        value: 0.131983027\n",
      "        value: 0.712783694\n",
      "        value: 0.712239742\n",
      "        value: 0.17114459\n",
      "        value: 0.00723550282\n",
      "        value: 0.0981233269\n",
      "        value: 0.342829317\n",
      "        value: 0.456588387\n",
      "        value: 0.441515088\n",
      "        value: 0.805673182\n",
      "        value: 0.262292385\n",
      "        value: 0.513258219\n",
      "        value: 0.859309554\n",
      "        value: 0.633080363\n",
      "        value: 0.743531883\n",
      "        value: 0.0322179571\n",
      "        value: 0.542109609\n",
      "        value: 0.992100358\n",
      "        value: 0.156822\n",
      "        value: 0.979795575\n",
      "        value: 0.0609611981\n",
      "        value: 0.927654386\n",
      "        value: 0.943461359\n",
      "        value: 0.00241220486\n",
      "        value: 0.990910828\n",
      "        value: 0.636635184\n",
      "        value: 0.305237055\n",
      "        value: 0.940798759\n",
      "        value: 0.932330608\n",
      "        value: 0.164405212\n",
      "        value: 0.150262311\n",
      "        value: 0.935117602\n",
      "        value: 0.393344343\n",
      "        value: 0.212632716\n",
      "        value: 0.394577861\n",
      "        value: 0.726255655\n",
      "        value: 0.611189723\n",
      "        value: 0.401779056\n",
      "        value: 0.491337478\n",
      "        value: 0.240739703\n",
      "        value: 0.114658691\n",
      "        value: 0.69581449\n",
      "        value: 0.0521324314\n",
      "        value: 0.835274398\n",
      "        value: 0.603572965\n",
      "        value: 0.932241321\n",
      "        value: 0.360099494\n",
      "        value: 0.459727764\n",
      "        value: 0.541435659\n",
      "        value: 0.443440467\n",
      "        value: 0.294957161\n",
      "        value: 0.142993212\n",
      "        value: 0.870869935\n",
      "        value: 0.783071697\n",
      "        value: 0.0929525942\n",
      "        value: 0.800109148\n",
      "        value: 0.581545293\n",
      "        value: 0.916515291\n",
      "        value: 0.84042567\n",
      "        value: 0.120207481\n",
      "        value: 0.633164525\n",
      "        value: 0.517356575\n",
      "        value: 0.762107074\n",
      "        value: 0.768746376\n",
      "        value: 0.300755441\n",
      "        value: 0.683783114\n",
      "        value: 0.47248891\n",
      "        value: 0.997724771\n",
      "        value: 0.95479\n",
      "        value: 0.749769032\n",
      "        value: 0.652399421\n",
      "        value: 0.100654982\n",
      "        value: 0.360749424\n",
      "        value: 0.720791161\n",
      "        value: 0.93790096\n",
      "        value: 0.00689497637\n",
      "        value: 0.848940492\n",
      "        value: 0.444070309\n",
      "        value: 0.89490515\n",
      "        value: 0.145081088\n",
      "        value: 0.973249\n",
      "        value: 0.279850841\n",
      "        value: 0.230056167\n",
      "        value: 0.286736935\n",
      "        value: 0.732085824\n",
      "        value: 0.0144212525\n",
      "        value: 0.377811879\n",
      "        value: 0.279747397\n",
      "        value: 0.813384831\n",
      "        value: 0.621519208\n",
      "        value: 0.352498502\n",
      "        value: 0.46486339\n",
      "        value: 0.691014111\n",
      "        value: 0.61268574\n",
      "        value: 0.617810786\n",
      "        value: 0.758120835\n",
      "        value: 0.0157595482\n",
      "        value: 0.173304647\n",
      "        value: 0.536824286\n",
      "        value: 0.223888487\n",
      "        value: 0.984617591\n",
      "        value: 0.462471187\n",
      "        value: 0.138572112\n",
      "        value: 0.0637476891\n",
      "        value: 0.0422747359\n",
      "        value: 0.89082855\n",
      "        value: 0.388817936\n",
      "        value: 0.980583251\n",
      "        value: 0.0830633193\n",
      "        value: 0.630166709\n",
      "        value: 0.223157898\n",
      "        value: 0.473842204\n",
      "        value: 0.808508456\n",
      "        value: 0.316057295\n",
      "        value: 0.397595\n",
      "        value: 0.0329762064\n",
      "        value: 0.538685083\n",
      "        value: 0.555623889\n",
      "        value: 0.261469126\n",
      "        value: 0.564603388\n",
      "        value: 0.087204963\n",
      "        value: 0.00664202822\n",
      "        value: 0.162322223\n",
      "        value: 0.280413419\n",
      "        value: 0.913831294\n",
      "        value: 0.901773\n",
      "        value: 0.263363898\n",
      "        value: 0.447181731\n",
      "        value: 0.281889707\n",
      "        value: 0.0154522285\n",
      "        value: 0.672565281\n",
      "        value: 0.0587887876\n",
      "        value: 0.434341043\n",
      "        value: 0.955633879\n",
      "        value: 0.675167084\n",
      "        value: 0.169624045\n",
      "        value: 0.743499815\n",
      "        value: 0.340402246\n",
      "        value: 0.366414934\n",
      "        value: 0.442705601\n",
      "        value: 0.152579844\n",
      "        value: 0.738142252\n",
      "        value: 0.365583837\n",
      "        value: 0.434515238\n",
      "        value: 0.927109778\n",
      "        value: 0.579544067\n",
      "        value: 0.945598602\n",
      "        value: 0.505368114\n",
      "        value: 0.911881506\n",
      "        value: 0.529632\n",
      "        value: 0.731833458\n",
      "        value: 0.723594129\n",
      "        value: 0.617824852\n",
      "        value: 0.910583436\n",
      "        value: 0.24084951\n",
      "        value: 0.806636691\n",
      "        value: 0.00566131854\n",
      "        value: 0.924331963\n",
      "        value: 0.809696078\n",
      "        value: 0.196029186\n",
      "        value: 0.155120283\n",
      "        value: 0.678586662\n",
      "        value: 0.833886206\n",
      "        value: 0.267700553\n",
      "        value: 0.152113572\n",
      "        value: 0.824427903\n",
      "        value: 0.544360042\n",
      "        value: 0.0907862931\n",
      "        value: 0.888602853\n",
      "        value: 0.409603298\n",
      "        value: 0.322126806\n",
      "        value: 0.438900709\n",
      "        value: 0.663235784\n",
      "        value: 0.279443234\n",
      "        value: 0.066264756\n",
      "        value: 0.023534311\n",
      "        value: 0.975704253\n",
      "        value: 0.593613386\n",
      "        value: 0.836727083\n",
      "        value: 0.264849186\n",
      "        value: 0.503778458\n",
      "        value: 0.0631799176\n",
      "        value: 0.146846041\n",
      "        value: 0.534264684\n",
      "        value: 0.164308\n",
      "        value: 0.212564275\n",
      "        value: 0.468694866\n",
      "        value: 0.120285861\n",
      "        value: 0.0236601308\n",
      "        value: 0.634082735\n",
      "        value: 0.538591146\n",
      "        value: 0.880431652\n",
      "        value: 0.0799758732\n",
      "        value: 0.704955161\n",
      "        value: 0.405843556\n",
      "        value: 0.356753945\n",
      "        value: 0.950214\n",
      "        value: 0.451196194\n",
      "        value: 0.904476404\n",
      "        value: 0.721947074\n",
      "        value: 0.49752754\n",
      "        value: 0.271920443\n",
      "        value: 0.904951334\n",
      "        value: 0.627289891\n",
      "        value: 0.247946247\n",
      "        value: 0.691828668\n",
      "        value: 0.767160833\n",
      "        value: 0.212775394\n",
      "        value: 0.0283074398\n",
      "        value: 0.304218829\n",
      "        value: 0.365346968\n",
      "        value: 0.105278119\n",
      "        value: 0.875180542\n",
      "        value: 0.839051902\n",
      "        value: 0.370049417\n",
      "        value: 0.151962116\n",
      "        value: 0.938727736\n",
      "        value: 0.874444842\n",
      "        value: 0.625633299\n",
      "        value: 0.322636724\n",
      "        value: 0.532133639\n",
      "        value: 0.57456857\n",
      "      }\n",
      "    }\n",
      "  }\n",
      "}\n",
      "\n"
     ]
    }
   ],
   "source": [
    "###<补充> 6.1.7 keras读取tfrecord格式样本训练模型 - 重要，工业界基本都使用tfrecord格式传输/存储样本\n",
    "\n",
    "## 1.构造tfrecord样本\n",
    "\n",
    "#import os  \n",
    "import tensorflow as tf  \n",
    "import numpy as np  \n",
    "  \n",
    "# 设定数据大小  \n",
    "num_samples = 1000  \n",
    "image_size = 784  # 假设图像是 28x28，则 flatten 后大小为 784  \n",
    "num_classes = 10  # 假设有 10 个类别  \n",
    "  \n",
    "# 生成随机图像数据  \n",
    "images = np.random.rand(num_samples, image_size).astype(np.float32)  \n",
    "  \n",
    "# 生成随机标签数据  \n",
    "labels = np.random.randint(num_classes, size=(num_samples, 1), dtype=np.int32)  \n",
    "  \n",
    "# 定义一个函数来将图像和标签写入 TFRecord  \n",
    "def write_tfrecord(images, labels, output_path):  \n",
    "    with tf.io.TFRecordWriter(output_path) as writer:  \n",
    "        for image, label in zip(images, labels):  \n",
    "            # 创建一个 tf.train.Example 对象  \n",
    "            example = tf.train.Example(features=tf.train.Features(feature={  \n",
    "                'image': tf.train.Feature(float_list=tf.train.FloatList(value=image.flatten())),  \n",
    "                'label': tf.train.Feature(int64_list=tf.train.Int64List(value=[int(label)]))  \n",
    "            }))  \n",
    "              \n",
    "            # 将 tf.train.Example 序列化为字符串并写入 TFRecord 文件  \n",
    "            writer.write(example.SerializeToString())  \n",
    "        print(example)\n",
    "# 生成 TFRecord 文件  \n",
    "output_path = '__TFRecord/train.tfrecord'  \n",
    "write_tfrecord(images, labels, output_path)\n"
   ]
  },
  {
   "cell_type": "code",
   "execution_count": 77,
   "metadata": {},
   "outputs": [
    {
     "data": {
      "text/plain": [
       "(1000, 784)"
      ]
     },
     "execution_count": 77,
     "metadata": {},
     "output_type": "execute_result"
    }
   ],
   "source": [
    "images.shape"
   ]
  },
  {
   "cell_type": "code",
   "execution_count": 80,
   "metadata": {},
   "outputs": [
    {
     "data": {
      "text/plain": [
       "array([[0.903 , 0.2253, 0.2937, ..., 0.8666, 0.7277, 0.8869],\n",
       "       [0.5293, 0.0978, 0.7204, ..., 0.221 , 0.8307, 0.3823]],\n",
       "      dtype=float32)"
      ]
     },
     "execution_count": 80,
     "metadata": {},
     "output_type": "execute_result"
    }
   ],
   "source": [
    "images[0:2]"
   ]
  },
  {
   "cell_type": "code",
   "execution_count": 78,
   "metadata": {},
   "outputs": [
    {
     "data": {
      "text/plain": [
       "(1000, 1)"
      ]
     },
     "execution_count": 78,
     "metadata": {},
     "output_type": "execute_result"
    }
   ],
   "source": [
    "labels.shape"
   ]
  },
  {
   "cell_type": "code",
   "execution_count": 81,
   "metadata": {},
   "outputs": [
    {
     "data": {
      "text/plain": [
       "array([[1],\n",
       "       [0]])"
      ]
     },
     "execution_count": 81,
     "metadata": {},
     "output_type": "execute_result"
    }
   ],
   "source": [
    "labels[:2]"
   ]
  },
  {
   "cell_type": "code",
   "execution_count": 160,
   "metadata": {},
   "outputs": [
    {
     "name": "stdout",
     "output_type": "stream",
     "text": [
      "parsed_features: {'image': <tf.Tensor 'ParseSingleExample/ParseExample/ParseExampleV2:0' shape=(784,) dtype=float32>, 'label': <tf.Tensor 'ParseSingleExample/ParseExample/ParseExampleV2:1' shape=() dtype=int64>}\n",
      "image: Tensor(\"ParseSingleExample/ParseExample/ParseExampleV2:0\", shape=(784,), dtype=float32)\n",
      "label: Tensor(\"ParseSingleExample/ParseExample/ParseExampleV2:1\", shape=(), dtype=int64)\n",
      "Image shape: (16, 28, 28, 1)\n",
      "Label shape: (16,)\n"
     ]
    }
   ],
   "source": [
    "## 2.读取并解析tfrecord样本\n",
    "import tensorflow as tf  \n",
    "import numpy as np  \n",
    "  \n",
    "# 定义解析函数，用于从 TFRecord 中提取图像和标签  \n",
    "def parse_example(example_proto):  \n",
    "    features = {  \n",
    "        'image': tf.io.FixedLenFeature([784,], tf.float32),   #要指定shape，否则默认是1个元素\n",
    "        'label': tf.io.FixedLenFeature([], tf.int64),          #只有一个元素，默认空即刻\n",
    "    }  \n",
    "    parsed_features = tf.io.parse_single_example(example_proto, features)  \n",
    "    print(\"parsed_features:\",parsed_features)\n",
    "    print(\"image:\",parsed_features['image'])\n",
    "    print(\"label:\",parsed_features['label'])\n",
    "\n",
    "\n",
    "    # 标准化图像到 [0, 1] 范围  \n",
    "    image = tf.reshape(parsed_features['image'], (28, 28, 1)) \n",
    "    # 将标签转换为整数  \n",
    "    label = tf.cast(parsed_features['label'], tf.int64)  \n",
    "    # 可能还需要调整图像大小等预处理步骤  \n",
    "    # image = tf.image.resize(image, [height, width])  \n",
    "    return image, label  \n",
    "  \n",
    "\n",
    "\n",
    "# 加载数据集  \n",
    "# 假设我们有一个 TFRecord 文件 'train.tfrecord'  \n",
    "tfrecord_file = '__TFRecord/train.tfrecord'  \n",
    "dataset = tf.data.TFRecordDataset(tfrecord_file)  \n",
    "dataset = dataset.map(parse_example, num_parallel_calls=tf.data.AUTOTUNE)  \n",
    "train_dataset = dataset.shuffle(buffer_size=100).batch(16).prefetch(tf.data.AUTOTUNE)    \n",
    "\n",
    "# 从数据集中获取一个样本以检查形状  \n",
    "sample_image, sample_label = next(iter(train_dataset))  \n",
    "print(\"Image shape:\", sample_image.shape)  \n",
    "print(\"Label shape:\", sample_label.shape)\n",
    "\n"
   ]
  },
  {
   "cell_type": "code",
   "execution_count": 161,
   "metadata": {},
   "outputs": [
    {
     "data": {
      "text/plain": [
       "<_ParallelMapDataset element_spec=(TensorSpec(shape=(28, 28, 1), dtype=tf.float32, name=None), TensorSpec(shape=(), dtype=tf.int64, name=None))>"
      ]
     },
     "execution_count": 161,
     "metadata": {},
     "output_type": "execute_result"
    }
   ],
   "source": [
    "dataset"
   ]
  },
  {
   "cell_type": "code",
   "execution_count": 162,
   "metadata": {},
   "outputs": [
    {
     "data": {
      "text/plain": [
       "<_PrefetchDataset element_spec=(TensorSpec(shape=(None, 28, 28, 1), dtype=tf.float32, name=None), TensorSpec(shape=(None,), dtype=tf.int64, name=None))>"
      ]
     },
     "execution_count": 162,
     "metadata": {},
     "output_type": "execute_result"
    }
   ],
   "source": [
    "train_dataset"
   ]
  },
  {
   "cell_type": "code",
   "execution_count": 165,
   "metadata": {},
   "outputs": [
    {
     "name": "stdout",
     "output_type": "stream",
     "text": [
      "Epoch 1/10\n"
     ]
    },
    {
     "name": "stdout",
     "output_type": "stream",
     "text": [
      "63/63 [==============================] - 3s 21ms/step - loss: 2.3855 - accuracy: 0.1040\n",
      "Epoch 2/10\n",
      "63/63 [==============================] - 1s 18ms/step - loss: 2.2995 - accuracy: 0.1210\n",
      "Epoch 3/10\n",
      "63/63 [==============================] - 1s 19ms/step - loss: 2.2937 - accuracy: 0.1240\n",
      "Epoch 4/10\n",
      "63/63 [==============================] - 1s 15ms/step - loss: 2.2568 - accuracy: 0.1740\n",
      "Epoch 5/10\n",
      "63/63 [==============================] - 1s 16ms/step - loss: 2.2290 - accuracy: 0.1710\n",
      "Epoch 6/10\n",
      "63/63 [==============================] - 1s 14ms/step - loss: 2.1555 - accuracy: 0.2280\n",
      "Epoch 7/10\n",
      "63/63 [==============================] - 1s 15ms/step - loss: 1.9739 - accuracy: 0.3190\n",
      "Epoch 8/10\n",
      "63/63 [==============================] - 1s 17ms/step - loss: 1.9262 - accuracy: 0.3340\n",
      "Epoch 9/10\n",
      "63/63 [==============================] - 1s 17ms/step - loss: 1.6313 - accuracy: 0.4550\n",
      "Epoch 10/10\n",
      "63/63 [==============================] - 1s 15ms/step - loss: 1.3967 - accuracy: 0.5290\n"
     ]
    },
    {
     "data": {
      "text/plain": [
       "<keras.src.callbacks.History at 0x28a7d038cd0>"
      ]
     },
     "execution_count": 165,
     "metadata": {},
     "output_type": "execute_result"
    }
   ],
   "source": [
    "\n",
    "## 3.训练模型 - 数据集中指定batch\n",
    "  \n",
    "# 定义一个简单的模型\n",
    "import keras\n",
    "from keras import layers\n",
    "  \n",
    "model = keras.Sequential(\n",
    "    [\n",
    "        layers.Flatten(input_shape=[ 28, 28, 1], name=\"inputs\"),\n",
    "        layers.Dense(512, activation=\"relu\", name=\"layer1\"),\n",
    "        layers.Dense(512, activation=\"relu\", name=\"layer2\"),\n",
    "        layers.Dense(10, activation=\"softmax\",name=\"predictions\"), \n",
    "    ]\n",
    ")\n",
    "  \n",
    "# 编译模型  \n",
    "model.compile(optimizer='adam',  \n",
    "              loss=tf.keras.losses.SparseCategoricalCrossentropy(from_logits=False),  #需要注意的是，\n",
    "                                                    #如果你的模型输出已经是概率分布（即已经通过 softmax 层），\n",
    "                                                    #那么你应该使用 from_logits=False 或者简单地使用 tf.keras.losses.SparseCategoricalCrossentropy()\n",
    "                                                    #（默认 from_logits 为 False）。在这种情况下，你不应该在模型的最后一层使用 softmax 激活函数，\n",
    "                                                    #以避免对概率进行重复 softmax 操作。\n",
    "              metrics=['accuracy'])  \n",
    "  \n",
    "# 训练模型  \n",
    "model.fit(train_dataset, epochs=10)  #随机数据，先不关注效果，关注流程"
   ]
  },
  {
   "cell_type": "code",
   "execution_count": 164,
   "metadata": {},
   "outputs": [
    {
     "name": "stdout",
     "output_type": "stream",
     "text": [
      "Epoch 1/10\n",
      "50/50 [==============================] - 2s 18ms/step - loss: 0.7128 - accuracy: 0.5175 - val_loss: 0.6913 - val_accuracy: 0.5250\n",
      "Epoch 2/10\n",
      "50/50 [==============================] - 0s 9ms/step - loss: 0.6996 - accuracy: 0.4975 - val_loss: 0.6907 - val_accuracy: 0.5800\n",
      "Epoch 3/10\n",
      "50/50 [==============================] - 0s 7ms/step - loss: 0.6976 - accuracy: 0.5088 - val_loss: 0.6911 - val_accuracy: 0.5450\n",
      "Epoch 4/10\n",
      "50/50 [==============================] - 0s 7ms/step - loss: 0.6963 - accuracy: 0.5138 - val_loss: 0.6913 - val_accuracy: 0.5350\n",
      "Epoch 5/10\n",
      "50/50 [==============================] - 0s 7ms/step - loss: 0.6954 - accuracy: 0.5063 - val_loss: 0.6919 - val_accuracy: 0.5200\n",
      "Epoch 6/10\n",
      "50/50 [==============================] - 0s 7ms/step - loss: 0.6943 - accuracy: 0.5113 - val_loss: 0.6926 - val_accuracy: 0.4900\n",
      "Epoch 7/10\n",
      "50/50 [==============================] - 0s 7ms/step - loss: 0.6924 - accuracy: 0.5238 - val_loss: 0.6925 - val_accuracy: 0.5400\n",
      "Epoch 8/10\n",
      "50/50 [==============================] - 0s 10ms/step - loss: 0.6928 - accuracy: 0.5138 - val_loss: 0.6932 - val_accuracy: 0.5100\n",
      "Epoch 9/10\n",
      "50/50 [==============================] - 0s 7ms/step - loss: 0.6919 - accuracy: 0.5325 - val_loss: 0.6931 - val_accuracy: 0.4850\n",
      "Epoch 10/10\n",
      "50/50 [==============================] - 0s 7ms/step - loss: 0.6902 - accuracy: 0.5437 - val_loss: 0.6935 - val_accuracy: 0.4800\n"
     ]
    },
    {
     "data": {
      "text/plain": [
       "<keras.src.callbacks.History at 0x28a7beece50>"
      ]
     },
     "execution_count": 164,
     "metadata": {},
     "output_type": "execute_result"
    }
   ],
   "source": [
    "## 迭代训练多个batch - model.fit参数指定batch\n",
    "          \n",
    "import numpy as np  \n",
    "from tensorflow.keras.models import Sequential  \n",
    "from tensorflow.keras.layers import Dense  \n",
    "from tensorflow.keras.optimizers import Adam  \n",
    "  \n",
    "# 创建一个简单的模型  \n",
    "model = Sequential()  \n",
    "model.add(Dense(32, input_dim=10, activation='relu'))  \n",
    "model.add(Dense(1, activation='sigmoid'))  \n",
    "  \n",
    "# 编译模型  \n",
    "model.compile(loss='binary_crossentropy', optimizer=Adam(), metrics=['accuracy'])  \n",
    "  \n",
    "# 生成随机数据  \n",
    "x_train = np.random.random((1000, 10))  \n",
    "y_train = np.random.randint(2, size=(1000, 1))  \n",
    "  \n",
    "# 使用model.fit训练模型  \n",
    "model.fit(x_train, y_train, epochs=10, batch_size=16, validation_split=0.2)"
   ]
  }
 ],
 "metadata": {
  "kernelspec": {
   "display_name": "Python 3",
   "language": "python",
   "name": "python3"
  },
  "language_info": {
   "codemirror_mode": {
    "name": "ipython",
    "version": 3
   },
   "file_extension": ".py",
   "mimetype": "text/x-python",
   "name": "python",
   "nbconvert_exporter": "python",
   "pygments_lexer": "ipython3",
   "version": "3.11.8"
  }
 },
 "nbformat": 4,
 "nbformat_minor": 2
}
