{
 "cells": [
  {
   "cell_type": "code",
   "execution_count": 1,
   "metadata": {},
   "outputs": [
    {
     "name": "stdout",
     "output_type": "stream",
     "text": [
      "WARNING:tensorflow:From c:\\Users\\yuanshuai\\AppData\\Local\\anaconda3\\envs\\tensorflow2\\Lib\\site-packages\\keras\\src\\losses.py:2976: The name tf.losses.sparse_softmax_cross_entropy is deprecated. Please use tf.compat.v1.losses.sparse_softmax_cross_entropy instead.\n",
      "\n"
     ]
    }
   ],
   "source": [
    "import tensorflow as tf\n",
    "\n",
    "#“保存 TensorFlow 模型”这一短语通常表示保存以下两种元素之一：\n",
    "\n",
    "#检查点，或\n",
    "#SavedModel。\n",
    "#检查点可以捕获模型使用的所有参数（tf.Variable 对象）的确切值。\n",
    "#检查点不包含对模型所定义计算的任何描述，因此通常仅在将使用保存参数值的源代码可用时才有用。\n",
    "\n",
    "#另一方面，除了参数值（检查点）之外，SavedModel 格式还包括对模型所定义计算的序列化描述。\n",
    "#这种格式的模型独立于创建模型的源代码。因此，它们适合通过 TensorFlow Serving、TensorFlow Lite、TensorFlow.js \n",
    "#或者使用其他编程语言（C、C++、Java、Go、Rust、C# 等 TensorFlow API）编写的程序进行部署。\n",
    "\n",
    "#本文介绍用于编写和读取检查点的 API。"
   ]
  },
  {
   "cell_type": "code",
   "execution_count": 5,
   "metadata": {},
   "outputs": [],
   "source": [
    "### 7.1.1 从 tf.keras 训练 API 保存\n",
    "\n",
    "class Net(tf.keras.Model):\n",
    "  \"\"\"A simple linear model.\"\"\"\n",
    "\n",
    "  def __init__(self):\n",
    "    super(Net, self).__init__()\n",
    "    self.l1 = tf.keras.layers.Dense(5)\n",
    "\n",
    "  def call(self, x):\n",
    "    return self.l1(x)"
   ]
  },
  {
   "cell_type": "code",
   "execution_count": 6,
   "metadata": {},
   "outputs": [],
   "source": [
    "net = Net()\n",
    "net.save_weights('__Checkpoint/easy_checkpoint')"
   ]
  },
  {
   "cell_type": "code",
   "execution_count": 7,
   "metadata": {},
   "outputs": [],
   "source": [
    "### 7.1.2 编写检查点\n",
    "#为了帮助演示 tf.train.Checkpoint 的所有功能， 下面定义了一个玩具 (toy) 数据集和优化步骤：\n",
    "\n",
    "##1.设置\n",
    "def toy_dataset():\n",
    "  inputs = tf.range(10.)[:, None]\n",
    "  labels = inputs * 5. + tf.range(5.)[None, :]\n",
    "  return tf.data.Dataset.from_tensor_slices(\n",
    "    dict(x=inputs, y=labels)).repeat().batch(2)\n",
    "\n"
   ]
  },
  {
   "cell_type": "code",
   "execution_count": 8,
   "metadata": {},
   "outputs": [],
   "source": [
    "def train_step(net, example, optimizer):\n",
    "  \"\"\"Trains `net` on `example` using `optimizer`.\"\"\"\n",
    "  with tf.GradientTape() as tape:\n",
    "    output = net(example['x'])\n",
    "    loss = tf.reduce_mean(tf.abs(output - example['y']))\n",
    "  variables = net.trainable_variables\n",
    "  gradients = tape.gradient(loss, variables)\n",
    "  optimizer.apply_gradients(zip(gradients, variables))\n",
    "  return loss"
   ]
  },
  {
   "cell_type": "code",
   "execution_count": 9,
   "metadata": {},
   "outputs": [],
   "source": [
    "##2.创建检查点对象\n",
    "#使用 tf.train.Checkpoint 对象手动创建一个检查点，其中要检查的对象设置为对象的特性。\n",
    "#tf.train.CheckpointManager 也有助于管理多个检查点。\n",
    "opt = tf.keras.optimizers.Adam(0.1)\n",
    "dataset = toy_dataset()\n",
    "iterator = iter(dataset)\n",
    "ckpt = tf.train.Checkpoint(step=tf.Variable(1), optimizer=opt, net=net, iterator=iterator)\n",
    "manager = tf.train.CheckpointManager(ckpt, '__Checkpoint/tf_ckpts', max_to_keep=3)"
   ]
  },
  {
   "cell_type": "code",
   "execution_count": 10,
   "metadata": {},
   "outputs": [],
   "source": [
    "##3.训练模型并为模型设置检查点\n",
    "#以下训练循环可创建模型和优化器的实例，然后将它们收集到 tf.train.Checkpoint 对象中。\n",
    "#它在每批数据上循环调用训练步骤，并定期将检查点写入磁盘。\n",
    "\n",
    "def train_and_checkpoint(net, manager):\n",
    "  ckpt.restore(manager.latest_checkpoint)\n",
    "  if manager.latest_checkpoint:\n",
    "    print(\"Restored from {}\".format(manager.latest_checkpoint))\n",
    "  else:\n",
    "    print(\"Initializing from scratch.\")\n",
    "\n",
    "  for _ in range(50):\n",
    "    example = next(iterator)\n",
    "    loss = train_step(net, example, opt)\n",
    "    ckpt.step.assign_add(1)\n",
    "    if int(ckpt.step) % 10 == 0:\n",
    "      save_path = manager.save()\n",
    "      print(\"Saved checkpoint for step {}: {}\".format(int(ckpt.step), save_path))\n",
    "      print(\"loss {:1.2f}\".format(loss.numpy()))"
   ]
  },
  {
   "cell_type": "code",
   "execution_count": 11,
   "metadata": {},
   "outputs": [
    {
     "name": "stdout",
     "output_type": "stream",
     "text": [
      "Initializing from scratch.\n",
      "Saved checkpoint for step 10: __Checkpoint/tf_ckpts\\ckpt-1\n",
      "loss 27.70\n",
      "Saved checkpoint for step 20: __Checkpoint/tf_ckpts\\ckpt-2\n",
      "loss 21.12\n",
      "Saved checkpoint for step 30: __Checkpoint/tf_ckpts\\ckpt-3\n",
      "loss 14.57\n",
      "Saved checkpoint for step 40: __Checkpoint/tf_ckpts\\ckpt-4\n",
      "loss 8.15\n",
      "Saved checkpoint for step 50: __Checkpoint/tf_ckpts\\ckpt-5\n",
      "loss 3.02\n"
     ]
    }
   ],
   "source": [
    "train_and_checkpoint(net, manager)"
   ]
  },
  {
   "cell_type": "code",
   "execution_count": 12,
   "metadata": {},
   "outputs": [
    {
     "name": "stdout",
     "output_type": "stream",
     "text": [
      "Restored from __Checkpoint/tf_ckpts\\ckpt-5\n",
      "Saved checkpoint for step 60: __Checkpoint/tf_ckpts\\ckpt-6\n",
      "loss 0.62\n",
      "Saved checkpoint for step 70: __Checkpoint/tf_ckpts\\ckpt-7\n",
      "loss 0.50\n",
      "Saved checkpoint for step 80: __Checkpoint/tf_ckpts\\ckpt-8\n",
      "loss 0.65\n",
      "Saved checkpoint for step 90: __Checkpoint/tf_ckpts\\ckpt-9\n",
      "loss 0.26\n",
      "Saved checkpoint for step 100: __Checkpoint/tf_ckpts\\ckpt-10\n",
      "loss 0.19\n"
     ]
    }
   ],
   "source": [
    "##4.恢复和继续训练\n",
    "#在第一个训练周期结束后，您可以传递一个新的模型和管理器，但在您中断的地方继续训练：\n",
    "opt = tf.keras.optimizers.Adam(0.1)\n",
    "net = Net()\n",
    "dataset = toy_dataset()\n",
    "iterator = iter(dataset)\n",
    "ckpt = tf.train.Checkpoint(step=tf.Variable(1), optimizer=opt, net=net, iterator=iterator)\n",
    "manager = tf.train.CheckpointManager(ckpt, '__Checkpoint/tf_ckpts', max_to_keep=3)\n",
    "\n",
    "train_and_checkpoint(net, manager)"
   ]
  },
  {
   "cell_type": "code",
   "execution_count": 13,
   "metadata": {},
   "outputs": [
    {
     "data": {
      "text/plain": [
       "['__Checkpoint/tf_ckpts\\\\ckpt-8',\n",
       " '__Checkpoint/tf_ckpts\\\\ckpt-9',\n",
       " '__Checkpoint/tf_ckpts\\\\ckpt-10']"
      ]
     },
     "execution_count": 13,
     "metadata": {},
     "output_type": "execute_result"
    }
   ],
   "source": [
    "#tf.train.CheckpointManager 对象会删除旧的检查点。上面配置为仅保留最近的三个检查点。\n",
    "manager.checkpoints"
   ]
  },
  {
   "cell_type": "code",
   "execution_count": null,
   "metadata": {},
   "outputs": [],
   "source": [
    "#这些路径（如 './tf_ckpts/ckpt-10'）不是磁盘上的文件，而是一个 index 文件和一个或多个包含变量值的数据文件的前缀。\n",
    "#这些前缀被分组到一个单独的 checkpoint 文件 ('./tf_ckpts/checkpoint') 中，其中 CheckpointManager 保存其状态。"
   ]
  }
 ],
 "metadata": {
  "kernelspec": {
   "display_name": "Python 3",
   "language": "python",
   "name": "python3"
  },
  "language_info": {
   "codemirror_mode": {
    "name": "ipython",
    "version": 3
   },
   "file_extension": ".py",
   "mimetype": "text/x-python",
   "name": "python",
   "nbconvert_exporter": "python",
   "pygments_lexer": "ipython3",
   "version": "3.11.8"
  }
 },
 "nbformat": 4,
 "nbformat_minor": 2
}
