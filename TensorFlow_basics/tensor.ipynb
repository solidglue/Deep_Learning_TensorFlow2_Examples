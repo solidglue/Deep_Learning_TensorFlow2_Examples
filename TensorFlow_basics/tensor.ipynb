{
 "cells": [
  {
   "cell_type": "code",
   "execution_count": 63,
   "metadata": {},
   "outputs": [],
   "source": [
    "import tensorflow as tf\n",
    "import numpy as np"
   ]
  },
  {
   "cell_type": "code",
   "execution_count": 64,
   "metadata": {},
   "outputs": [],
   "source": [
    "#>>>>>>>>>>>>>>>>>1、基础知识>>>>>>>>>>>>>>>>>>>>>>>>>\n",
    "#张量是具有统一类型（称为 dtype）的多维数组.您可以在 tf.dtypes.DType 中查看所有支持的 dtypes。\n",
    "#如果您熟悉 NumPy，就会知道张量与 np.arrays 有一定的相似性。\n",
    "#就像 Python 数值和字符串一样，所有张量都是不可变的：永远无法更新张量的内容，只能创建新的张量。\n"
   ]
  },
  {
   "cell_type": "code",
   "execution_count": 65,
   "metadata": {},
   "outputs": [
    {
     "name": "stdout",
     "output_type": "stream",
     "text": [
      "tf.Tensor(4, shape=(), dtype=int32)\n"
     ]
    }
   ],
   "source": [
    "#下面是一个“标量”（或称“0 秩”张量）。标量包含单个值，但没有“轴”。\n",
    "# This will be an int32 tensor by default; see \"dtypes\" below.\n",
    "rank_0_tensor = tf.constant(4)\n",
    "print(rank_0_tensor)"
   ]
  },
  {
   "cell_type": "code",
   "execution_count": 66,
   "metadata": {},
   "outputs": [
    {
     "name": "stdout",
     "output_type": "stream",
     "text": [
      "tf.Tensor([2. 3. 4.], shape=(3,), dtype=float32)\n"
     ]
    }
   ],
   "source": [
    "#“向量”（或称“1 秩”张量）就像一个值列表。向量有 1 个轴：\n",
    "# Let's make this a float tensor.\n",
    "rank_1_tensor = tf.constant([2.0,3.0,4.0])\n",
    "print(rank_1_tensor)"
   ]
  },
  {
   "cell_type": "code",
   "execution_count": 67,
   "metadata": {},
   "outputs": [
    {
     "name": "stdout",
     "output_type": "stream",
     "text": [
      "tf.Tensor(\n",
      "[[1. 2.]\n",
      " [3. 4.]\n",
      " [5. 6.]], shape=(3, 2), dtype=float16)\n"
     ]
    }
   ],
   "source": [
    "#“矩阵”（或称“2 秩”张量）有 2 个轴：\n",
    "# If you want to be specific, you can set the dtype (see below) at creation time\n",
    "rank_2_tensor = tf.constant(\n",
    "    [[1,2],\n",
    "    [3,4],\n",
    "    [5,6]],dtype=tf.float16)\n",
    "\n",
    "print(rank_2_tensor)\n"
   ]
  },
  {
   "cell_type": "code",
   "execution_count": 68,
   "metadata": {},
   "outputs": [
    {
     "name": "stdout",
     "output_type": "stream",
     "text": [
      "tf.Tensor(\n",
      "[[[ 1  2  3]\n",
      "  [ 4  5  6]]\n",
      "\n",
      " [[ 7  8  9]\n",
      "  [10 11 12]]], shape=(2, 2, 3), dtype=int16)\n"
     ]
    }
   ],
   "source": [
    "#张量的轴可能更多，下面是一个包含 3 个轴的张量：\n",
    "# There can be an arbitrary number of\n",
    "# axes (sometimes called \"dimensions\")\n",
    "rank_3_tensor = tf.constant(\n",
    "    [\n",
    "        [[1,2,3],[4,5,6]],\n",
    "        [[7,8,9],[10,11,12]],\n",
    "        ], dtype=tf.int16\n",
    ")\n",
    "print(rank_3_tensor)"
   ]
  },
  {
   "cell_type": "code",
   "execution_count": 69,
   "metadata": {},
   "outputs": [
    {
     "data": {
      "text/plain": [
       "array([[1., 2.],\n",
       "       [3., 4.],\n",
       "       [5., 6.]], dtype=float16)"
      ]
     },
     "execution_count": 69,
     "metadata": {},
     "output_type": "execute_result"
    }
   ],
   "source": [
    "#通过使用 np.array 或 tensor.numpy 方法，您可以将张量转换为 NumPy 数组：\n",
    "np.array(rank_2_tensor)"
   ]
  },
  {
   "cell_type": "code",
   "execution_count": 70,
   "metadata": {},
   "outputs": [
    {
     "data": {
      "text/plain": [
       "array([[1., 2.],\n",
       "       [3., 4.],\n",
       "       [5., 6.]], dtype=float16)"
      ]
     },
     "execution_count": 70,
     "metadata": {},
     "output_type": "execute_result"
    }
   ],
   "source": [
    "rank_2_tensor.numpy()"
   ]
  },
  {
   "cell_type": "code",
   "execution_count": 71,
   "metadata": {},
   "outputs": [
    {
     "name": "stdout",
     "output_type": "stream",
     "text": [
      "tf.Tensor(\n",
      "[[ 8 10 12]\n",
      " [14 16 18]], shape=(2, 3), dtype=int32) \n",
      "\n",
      "tf.Tensor(\n",
      "[[-6 -6 -6]\n",
      " [-6 -6 -6]], shape=(2, 3), dtype=int32) \n",
      "\n",
      "tf.Tensor(\n",
      "[[ 7 16 27]\n",
      " [40 55 72]], shape=(2, 3), dtype=int32) \n",
      "\n",
      "tf.Tensor(\n",
      "[[0.14285714 0.25       0.33333333]\n",
      " [0.4        0.45454545 0.5       ]], shape=(2, 3), dtype=float64) \n",
      "\n"
     ]
    }
   ],
   "source": [
    "#张量通常包含浮点型和整型数据，但是还有许多其他数据类型，包括：\n",
    "#复杂的数值\n",
    "#字符串\n",
    "#您可以对张量执行基本数学运算，包括加法、逐元素乘法和矩阵乘法。\n",
    "\n",
    "a = tf.constant([\n",
    "    [1,2,3],\n",
    "    [4,5,6]\n",
    "],dtype=tf.int32)\n",
    "\n",
    "b = tf.constant([\n",
    "    [7,8,9],\n",
    "    [10,11,12]\n",
    "],dtype=tf.int32)\n",
    "\n",
    "\n",
    "print(tf.add(a,b),\"\\n\")\n",
    "print(tf.subtract(a,b),\"\\n\")\n",
    "print(tf.multiply(a,b),\"\\n\")\n",
    "print(tf.divide(a,b),\"\\n\")\n",
    "\n"
   ]
  },
  {
   "cell_type": "code",
   "execution_count": 72,
   "metadata": {},
   "outputs": [
    {
     "name": "stdout",
     "output_type": "stream",
     "text": [
      "tf.Tensor(10.0, shape=(), dtype=float32) \n",
      "\n",
      "tf.Tensor([ 5. 10.], shape=(2,), dtype=float32) \n",
      "\n",
      "tf.Tensor([ 6.  7.  8.  9. 10.], shape=(5,), dtype=float32) \n",
      "\n",
      "tf.Tensor([1 1 1 1 1], shape=(5,), dtype=int64) \n",
      "\n",
      "tf.Tensor([4 4], shape=(2,), dtype=int64) \n",
      "\n",
      "tf.Tensor(\n",
      "[[0.01165623 0.03168492 0.08612853 0.23412165 0.63640857]\n",
      " [0.01165623 0.03168492 0.08612853 0.23412165 0.63640857]], shape=(2, 5), dtype=float32)\n"
     ]
    }
   ],
   "source": [
    "#各种运算都可以使用张量。\n",
    "#tf.reduce_max 是 TensorFlow 中的一个函数，用于计算张量（tensor）中的最大值。它可以沿着张量的一个或多个维度进行操作。\n",
    "a = tf.constant([\n",
    "    [1,2,3,4,5],\n",
    "    [6,7,8,9,10]\n",
    "],dtype=tf.float32)\n",
    "\n",
    "# Find the largest value\n",
    "print(tf.reduce_max(a),\"\\n\") #全局最大值\n",
    "print(tf.reduce_max(a,axis=1),\"\\n\") #1轴/行最大值\n",
    "print(tf.reduce_max(a,axis=0),\"\\n\") #0轴/列最大值\n",
    "\n",
    "# Find the index of the largest value\n",
    "print(tf.math.argmax(a,0),\"\\n\") #每列最大值索引\n",
    "print(tf.math.argmax(a,1),\"\\n\") #行最大值索引\n",
    "\n",
    "# Compute the softmax\n",
    "#tf.nn.softmax 函数用于计算张量中每个元素的 softmax 激活值。\n",
    "#Softmax 函数将输入的张量转换为一个新的张量，其中每个元素的取值范围在 0 到 1 之间，并且所有元素之和为 1。这使得 softmax 激活函数特别适合用于多分类问题中的输出层，其中每个输出节点表示一个类别的概率。\n",
    "print(tf.nn.softmax(a))"
   ]
  },
  {
   "attachments": {
    "image-2.png": {
     "image/png": "[encoded data removed]"
    },
    "image.png": {
     "image/png": "[encoded data removed]"
    }
   },
   "cell_type": "markdown",
   "metadata": {},
   "source": [
    "![image.png](attachment:image.png)\n",
    "![image-2.png](attachment:image-2.png)"
   ]
  },
  {
   "cell_type": "code",
   "execution_count": 73,
   "metadata": {},
   "outputs": [
    {
     "data": {
      "text/plain": [
       "<tf.Tensor: shape=(3, 2, 4, 5), dtype=float32, numpy=\n",
       "array([[[[0., 0., 0., 0., 0.],\n",
       "         [0., 0., 0., 0., 0.],\n",
       "         [0., 0., 0., 0., 0.],\n",
       "         [0., 0., 0., 0., 0.]],\n",
       "\n",
       "        [[0., 0., 0., 0., 0.],\n",
       "         [0., 0., 0., 0., 0.],\n",
       "         [0., 0., 0., 0., 0.],\n",
       "         [0., 0., 0., 0., 0.]]],\n",
       "\n",
       "\n",
       "       [[[0., 0., 0., 0., 0.],\n",
       "         [0., 0., 0., 0., 0.],\n",
       "         [0., 0., 0., 0., 0.],\n",
       "         [0., 0., 0., 0., 0.]],\n",
       "\n",
       "        [[0., 0., 0., 0., 0.],\n",
       "         [0., 0., 0., 0., 0.],\n",
       "         [0., 0., 0., 0., 0.],\n",
       "         [0., 0., 0., 0., 0.]]],\n",
       "\n",
       "\n",
       "       [[[0., 0., 0., 0., 0.],\n",
       "         [0., 0., 0., 0., 0.],\n",
       "         [0., 0., 0., 0., 0.],\n",
       "         [0., 0., 0., 0., 0.]],\n",
       "\n",
       "        [[0., 0., 0., 0., 0.],\n",
       "         [0., 0., 0., 0., 0.],\n",
       "         [0., 0., 0., 0., 0.],\n",
       "         [0., 0., 0., 0., 0.]]]], dtype=float32)>"
      ]
     },
     "execution_count": 73,
     "metadata": {},
     "output_type": "execute_result"
    }
   ],
   "source": [
    "#>>>>>>>>>>>>>>>>>2、SHAPE>>>>>>>>>>>>>>>>>>>>>>>>>\n",
    "\n",
    "##张量有形状。下面是几个相关术语：\n",
    "\n",
    "#形状：张量的每个轴的长度（元素数量）。\n",
    "#秩：张量轴数。标量的秩为 0，向量的秩为 1，矩阵的秩为 2。\n",
    "#轴或维度：张量的一个特殊维度。\n",
    "#大小：张量的总项数，即形状矢量元素的乘积\n",
    "#注：虽然您可能会看到“二维张量”之类的表述，但 2 秩张量通常并不是用来描述二维空间。\n",
    "\n",
    "rank_4_tensor = tf.zeros([3,2,4,5])\n",
    "rank_4_tensor"
   ]
  },
  {
   "cell_type": "code",
   "execution_count": 74,
   "metadata": {},
   "outputs": [
    {
     "name": "stdout",
     "output_type": "stream",
     "text": [
      "Type of every element: <dtype: 'float32'>\n",
      "Number of axes: 4\n",
      "Shape of tensor: (3, 2, 4, 5)\n",
      "Elements along axis 0 of tensor: 3\n",
      "Elements along the last axis of tensor: 5\n",
      "Total number of elements (3*2*4*5):  120\n"
     ]
    }
   ],
   "source": [
    "print(\"Type of every element:\", rank_4_tensor.dtype)\n",
    "print(\"Number of axes:\", rank_4_tensor.ndim)\n",
    "print(\"Shape of tensor:\", rank_4_tensor.shape)\n",
    "print(\"Elements along axis 0 of tensor:\", rank_4_tensor.shape[0])\n",
    "print(\"Elements along the last axis of tensor:\", rank_4_tensor.shape[-1])\n",
    "print(\"Total number of elements (3*2*4*5): \", tf.size(rank_4_tensor).numpy())"
   ]
  },
  {
   "cell_type": "code",
   "execution_count": 75,
   "metadata": {},
   "outputs": [
    {
     "name": "stdout",
     "output_type": "stream",
     "text": [
      "tf.Tensor(4, shape=(), dtype=int32) \n",
      "\n",
      "tf.Tensor([3 2 4 5], shape=(4,), dtype=int32) \n",
      "\n"
     ]
    }
   ],
   "source": [
    "#但请注意，Tensor.ndim 和 Tensor.shape 特性不返回 Tensor 对象。如果您需要 Tensor，请使用 tf.rank 或 tf.shape 函数。这种差异不易察觉，但在构建计算图时（稍后）可能非常重要。\n",
    "print(tf.rank(rank_4_tensor),'\\n')\n",
    "print(tf.shape(rank_4_tensor),'\\n')"
   ]
  },
  {
   "cell_type": "code",
   "execution_count": 76,
   "metadata": {},
   "outputs": [],
   "source": [
    "#虽然通常用索引来指代轴，但是您始终要记住每个轴的含义。轴一般按照从全局到局部的顺序进行排序：首先是批次轴，随后是空间维度，最后是每个位置的特征。这样，在内存中，特征向量就会位于连续的区域。\n",
    "# https://tensorflow.google.cn/guide/tensor?hl=zh-cn   结合2个图理解\n",
    "# 3 2 4 5\n",
    "# 3 - Batch\n",
    "# 2 - Height\n",
    "# 4 - Width\n",
    "# 5 - Features"
   ]
  },
  {
   "cell_type": "code",
   "execution_count": 77,
   "metadata": {},
   "outputs": [
    {
     "name": "stdout",
     "output_type": "stream",
     "text": [
      "tf.Tensor([ 0  1 12  3 24  5], shape=(6,), dtype=int32)\n",
      "12\n",
      "[12  3]\n"
     ]
    }
   ],
   "source": [
    "#>>>>>>>>>>>>>>>>>3、索引>>>>>>>>>>>>>>>>>>>>>>>>>\n",
    "#单轴索引\n",
    "#TensorFlow 遵循标准 Python 索引编制规则（类似于在 Python 中为列表或字符串编制索引）以及 NumPy 索引编制的基本规则。\n",
    "#索引从 0 开始编制\n",
    "#负索引表示按倒序编制索引\n",
    "#冒号 : 用于切片：start:stop:step\n",
    "rank_1_tensor = tf.constant([0,1,12,3,24,5])\n",
    "print(rank_1_tensor)\n",
    "print(rank_1_tensor[2].numpy())\n",
    "print(rank_1_tensor[2:4].numpy())\n"
   ]
  },
  {
   "cell_type": "code",
   "execution_count": 78,
   "metadata": {},
   "outputs": [
    {
     "name": "stdout",
     "output_type": "stream",
     "text": [
      "tf.Tensor(\n",
      "[[1. 2.]\n",
      " [3. 4.]\n",
      " [5. 6.]], shape=(3, 2), dtype=float16) \n",
      "\n",
      "tf.Tensor([2. 4. 6.], shape=(3,), dtype=float16) \n",
      "\n",
      "tf.Tensor(\n",
      "[[[ 1  2  3]\n",
      "  [ 4  5  6]]\n",
      "\n",
      " [[ 7  8  9]\n",
      "  [10 11 12]]], shape=(2, 2, 3), dtype=int16) \n",
      "\n",
      "tf.Tensor(\n",
      "[[ 3  6]\n",
      " [ 9 12]], shape=(2, 2), dtype=int16) \n",
      "\n"
     ]
    }
   ],
   "source": [
    "#多轴索引\n",
    "#更高秩的张量通过传递多个索引来编制索引。\n",
    "\n",
    "#对于高秩张量的每个单独的轴，遵循与单轴情形完全相同的规则。\n",
    "print(rank_2_tensor,'\\n')\n",
    "print(rank_2_tensor[:,1],'\\n')\n",
    "print(rank_3_tensor,'\\n')\n",
    "print(rank_3_tensor[:,:,2],'\\n')\n",
    "\n"
   ]
  },
  {
   "cell_type": "code",
   "execution_count": 79,
   "metadata": {},
   "outputs": [
    {
     "name": "stdout",
     "output_type": "stream",
     "text": [
      "tf.Tensor(\n",
      "[[1]\n",
      " [2]\n",
      " [3]], shape=(3, 1), dtype=int32) \n",
      "\n",
      "(3, 1)\n"
     ]
    }
   ],
   "source": [
    "#>>>>>>>>>>>>>>>>>4、reshape>>>>>>>>>>>>>>>>>>>>>>>>>\n",
    "#改变张量的形状很有用\n",
    "# Shape returns a `TensorShape` object that shows the size along each axis\n",
    "x = tf.constant([[1],[2],[3]])\n",
    "print(x,\"\\n\")\n",
    "print(x.shape)\n"
   ]
  },
  {
   "cell_type": "code",
   "execution_count": 80,
   "metadata": {},
   "outputs": [
    {
     "data": {
      "text/plain": [
       "[3, 1]"
      ]
     },
     "execution_count": 80,
     "metadata": {},
     "output_type": "execute_result"
    }
   ],
   "source": [
    "# You can convert this object into a Python list, too\n",
    "x.shape.as_list()"
   ]
  },
  {
   "cell_type": "code",
   "execution_count": 81,
   "metadata": {},
   "outputs": [
    {
     "data": {
      "text/plain": [
       "<tf.Tensor: shape=(1, 3), dtype=int32, numpy=array([[1, 2, 3]])>"
      ]
     },
     "execution_count": 81,
     "metadata": {},
     "output_type": "execute_result"
    }
   ],
   "source": [
    "#通过重构可以改变张量的形状。tf.reshape 运算的速度很快，资源消耗很低，因为不需要复制底层数据。\n",
    "# You can reshape a tensor to a new shape.\n",
    "# Note that you're passing in a list\n",
    "reshaped = tf.reshape(x,[1,3])\n",
    "reshaped"
   ]
  },
  {
   "cell_type": "code",
   "execution_count": 82,
   "metadata": {},
   "outputs": [
    {
     "data": {
      "text/plain": [
       "<tf.Tensor: shape=(2, 2, 3), dtype=int16, numpy=\n",
       "array([[[ 1,  2,  3],\n",
       "        [ 4,  5,  6]],\n",
       "\n",
       "       [[ 7,  8,  9],\n",
       "        [10, 11, 12]]], dtype=int16)>"
      ]
     },
     "execution_count": 82,
     "metadata": {},
     "output_type": "execute_result"
    }
   ],
   "source": [
    "#数据在内存中的布局保持不变，同时使用请求的形状创建一个指向同一数据的新张量。TensorFlow 采用 C 样式的“行优先”内存访问顺序，即最右侧的索引值递增对应于内存中的单步位移。\n",
    "rank_3_tensor"
   ]
  },
  {
   "cell_type": "code",
   "execution_count": 83,
   "metadata": {},
   "outputs": [
    {
     "data": {
      "text/plain": [
       "<tf.Tensor: shape=(12,), dtype=int16, numpy=array([ 1,  2,  3,  4,  5,  6,  7,  8,  9, 10, 11, 12], dtype=int16)>"
      ]
     },
     "execution_count": 83,
     "metadata": {},
     "output_type": "execute_result"
    }
   ],
   "source": [
    "#如果您展平张量，则可以看到它在内存中的排列顺序。\n",
    "# A `-1` passed in the `shape` argument says \"Whatever fits\".\n",
    "tf.reshape(rank_3_tensor,[-1])"
   ]
  },
  {
   "cell_type": "code",
   "execution_count": 84,
   "metadata": {},
   "outputs": [
    {
     "data": {
      "text/plain": [
       "<tf.Tensor: shape=(3, 4), dtype=int16, numpy=\n",
       "array([[ 1,  2,  3,  4],\n",
       "       [ 5,  6,  7,  8],\n",
       "       [ 9, 10, 11, 12]], dtype=int16)>"
      ]
     },
     "execution_count": 84,
     "metadata": {},
     "output_type": "execute_result"
    }
   ],
   "source": [
    "#一般来说，tf.reshape 唯一合理的用途是用于合并或拆分相邻轴（或添加/移除 1）。\n",
    "#对于 3x2x5 张量，重构为 (3x2)x5 或 3x(2x5) 都合理，因为切片不会混淆：\n",
    "tf.reshape(rank_3_tensor,[3,4])"
   ]
  },
  {
   "cell_type": "code",
   "execution_count": 85,
   "metadata": {},
   "outputs": [],
   "source": [
    "#重构可以处理总元素个数相同的任何新形状，但是如果不遵从轴的顺序，则不会发挥任何作用。\n",
    "#利用 tf.reshape 无法实现轴的交换，要交换轴，您需要使用 tf.transpose。"
   ]
  },
  {
   "cell_type": "code",
   "execution_count": 88,
   "metadata": {},
   "outputs": [
    {
     "name": "stdout",
     "output_type": "stream",
     "text": [
      "tf.Tensor([2.1 3.2 4.3], shape=(3,), dtype=float64) \n",
      "\n",
      "tf.Tensor([2.1 3.2 4.3], shape=(3,), dtype=float16) \n",
      "\n"
     ]
    }
   ],
   "source": [
    "#>>>>>>>>>>>>>>>>>5、DTypes>>>>>>>>>>>>>>>>>>>>>>>>>\n",
    "#使用 Tensor.dtype 属性可以检查 tf.Tensor 的数据类型。\n",
    "#从 Python 对象创建 tf.Tensor 时，您可以选择指定数据类型。\n",
    "#如果不指定，TensorFlow 会选择一个可以表示您的数据的数据类型。TensorFlow 将 Python 整数转换为 tf.int32，将 Python 浮点数转换为 tf.float32。另外，当转换为数组时，TensorFlow 会采用与 NumPy 相同的规则。\n",
    "#数据类型可以相互转换。\n",
    "\n",
    "the_f64_tensor = tf.constant([2.1,3.2,4.3],dtype=tf.float64)\n",
    "the_f16_tensor = tf.cast(the_f64_tensor,dtype=tf.float16)\n",
    "print(the_f64_tensor,\"\\n\")\n",
    "print(the_f16_tensor,\"\\n\")"
   ]
  },
  {
   "cell_type": "code",
   "execution_count": 89,
   "metadata": {},
   "outputs": [
    {
     "name": "stdout",
     "output_type": "stream",
     "text": [
      "tf.Tensor([2 4 6], shape=(3,), dtype=int32) \n",
      "\n",
      "tf.Tensor([2 4 6], shape=(3,), dtype=int32) \n",
      "\n",
      "tf.Tensor([2 4 6], shape=(3,), dtype=int32) \n",
      "\n"
     ]
    }
   ],
   "source": [
    "#>>>>>>>>>>>>>>>>>6、广播>>>>>>>>>>>>>>>>>>>>>>>>>\n",
    "#广播是从 NumPy 中的等效功能借用的一个概念。简而言之，在一定条件下，对一组张量执行组合运算时，为了适应大张量，会对小张量进行“扩展”。\n",
    "\n",
    "#最简单和最常见的例子是尝试将张量与标量相乘或相加。在这种情况下会对标量进行广播，使其变成与其他参数相同的形状。\n",
    "x = tf.constant([1,2,3])\n",
    "y = tf.constant(2)\n",
    "z = tf.constant([2,2,2])\n",
    "\n",
    "# All of these are the same computation\n",
    "print(tf.multiply(x,2),\"\\n\")\n",
    "print(x * y,\"\\n\")\n",
    "print(x * z,\"\\n\")\n"
   ]
  },
  {
   "cell_type": "code",
   "execution_count": null,
   "metadata": {},
   "outputs": [],
   "source": [
    "#同样，可以扩展长度为 1 的轴，使其匹配其他参数。在同一个计算中可以同时扩展两个参数。\n",
    "\n",
    "#在本例中，一个 3x1 的矩阵与一个 1x4 进行元素级乘法运算，从而产生一个 3x4 的矩阵。注意前导 1 是可选的：y 的形状是 [4]。\n"
   ]
  }
 ],
 "metadata": {
  "kernelspec": {
   "display_name": "Python 3",
   "language": "python",
   "name": "python3"
  },
  "language_info": {
   "codemirror_mode": {
    "name": "ipython",
    "version": 3
   },
   "file_extension": ".py",
   "mimetype": "text/x-python",
   "name": "python",
   "nbconvert_exporter": "python",
   "pygments_lexer": "ipython3",
   "version": "3.11.8"
  }
 },
 "nbformat": 4,
 "nbformat_minor": 2
}
